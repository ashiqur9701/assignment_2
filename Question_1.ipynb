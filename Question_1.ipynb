{
 "cells": [
  {
   "cell_type": "code",
   "execution_count": 1,
   "metadata": {
    "id": "FMyskTMdDkqw"
   },
   "outputs": [],
   "source": [
    "# Suppress Warnings\n",
    "import warnings\n",
    "warnings.filterwarnings(\"ignore\")"
   ]
  },
  {
   "cell_type": "markdown",
   "metadata": {
    "id": "lW2E9OVGSnld"
   },
   "source": [
    "## Question 1\n",
    "This question consists of multiple CSV files (In the Zipped Folder) with ‘large texts’\n",
    "in one of the columns in each file. Your job is to use the open-source NLP\n",
    "(Natural Language Processing) libraries and perform various tasks."
   ]
  },
  {
   "cell_type": "markdown",
   "metadata": {
    "id": "8Ab1vtU6StMh"
   },
   "source": [
    "### Task 1:\n",
    "Extract the ‘text’ in all the CSV files and store them into a single ‘.txt file’."
   ]
  },
  {
   "cell_type": "code",
   "execution_count": 2,
   "metadata": {
    "id": "ENg-mzfWSbzL"
   },
   "outputs": [],
   "source": [
    "import pandas as pd\n",
    "\n",
    "csv1 = pd.read_csv('CSV1.csv')\n",
    "csv2 = pd.read_csv('CSV2.csv')\n",
    "csv3 = pd.read_csv('CSV3.csv')\n",
    "csv4 = pd.read_csv('CSV4.csv')"
   ]
  },
  {
   "cell_type": "code",
   "execution_count": 3,
   "metadata": {
    "colab": {
     "base_uri": "https://localhost:8080/"
    },
    "id": "IkfbjOVBWVaG",
    "outputId": "6707bf92-d47c-445c-b0f4-da0d121525d9"
   },
   "outputs": [
    {
     "name": "stdout",
     "output_type": "stream",
     "text": [
      "<class 'pandas.core.frame.DataFrame'>\n",
      "RangeIndex: 15293 entries, 0 to 15292\n",
      "Data columns (total 6 columns):\n",
      " #   Column      Non-Null Count  Dtype \n",
      "---  ------      --------------  ----- \n",
      " 0   Unnamed: 0  15293 non-null  int64 \n",
      " 1   HADM_ID     15293 non-null  int64 \n",
      " 2   SHORT-TEXT  15293 non-null  object\n",
      " 3   ICD9_CODE   15293 non-null  object\n",
      " 4   ICD9        15293 non-null  object\n",
      " 5   Label       15293 non-null  object\n",
      "dtypes: int64(2), object(4)\n",
      "memory usage: 717.0+ KB\n"
     ]
    }
   ],
   "source": [
    "csv1.info()"
   ]
  },
  {
   "cell_type": "code",
   "execution_count": 4,
   "metadata": {
    "colab": {
     "base_uri": "https://localhost:8080/",
     "height": 241
    },
    "id": "oySCMDjgDkqy",
    "outputId": "582f895a-0b4e-4ae4-d3c5-b4c77c7a1277"
   },
   "outputs": [
    {
     "data": {
      "text/plain": [
       "0    history of present illness mr known lastname i...\n",
       "1    history of present illness yo man with known c...\n",
       "2    history of present illness y o male helmeted m...\n",
       "3    history of present illness year old spanish sp...\n",
       "4    history of present illness this is a year old ...\n",
       "Name: SHORT-TEXT, dtype: object"
      ]
     },
     "execution_count": 4,
     "metadata": {},
     "output_type": "execute_result"
    }
   ],
   "source": [
    "csv1['SHORT-TEXT'].head()"
   ]
  },
  {
   "cell_type": "code",
   "execution_count": 5,
   "metadata": {
    "colab": {
     "base_uri": "https://localhost:8080/"
    },
    "id": "8Tkxd2cfWVPB",
    "outputId": "d0eb4797-aaea-4992-ec35-828ade8f51c9"
   },
   "outputs": [
    {
     "name": "stdout",
     "output_type": "stream",
     "text": [
      "<class 'pandas.core.frame.DataFrame'>\n",
      "RangeIndex: 1463 entries, 0 to 1462\n",
      "Data columns (total 6 columns):\n",
      " #   Column      Non-Null Count  Dtype \n",
      "---  ------      --------------  ----- \n",
      " 0   Unnamed: 0  1463 non-null   int64 \n",
      " 1   HADM_ID     1463 non-null   int64 \n",
      " 2   TEXT        1463 non-null   object\n",
      " 3   LABLE       1463 non-null   int64 \n",
      " 4   entites     1463 non-null   object\n",
      " 5   group       1463 non-null   int64 \n",
      "dtypes: int64(4), object(2)\n",
      "memory usage: 68.7+ KB\n"
     ]
    }
   ],
   "source": [
    "csv2.info()"
   ]
  },
  {
   "cell_type": "code",
   "execution_count": 6,
   "metadata": {
    "colab": {
     "base_uri": "https://localhost:8080/",
     "height": 241
    },
    "id": "IiIYhKR5Dkqy",
    "outputId": "c420d361-052e-40f4-9aeb-6b5b011aa79b"
   },
   "outputs": [
    {
     "data": {
      "text/plain": [
       "0    Admission Date:  [**2185-11-11**]       Discha...\n",
       "1    Admission Date:  [**2160-12-7**]              ...\n",
       "2    Admission Date:  [**2187-10-23**]             ...\n",
       "3    Admission Date:  [**2123-4-26**]              ...\n",
       "4    Admission Date:  [**2124-2-14**]              ...\n",
       "Name: TEXT, dtype: object"
      ]
     },
     "execution_count": 6,
     "metadata": {},
     "output_type": "execute_result"
    }
   ],
   "source": [
    "csv2['TEXT'].head()"
   ]
  },
  {
   "cell_type": "code",
   "execution_count": 7,
   "metadata": {
    "colab": {
     "base_uri": "https://localhost:8080/",
     "height": 241
    },
    "id": "3JEUEGZJFhA7",
    "outputId": "2b95a18e-943d-4222-cfd2-83a2e158c9a4"
   },
   "outputs": [
    {
     "data": {
      "text/plain": [
       "0    [\"Alzheimer's dementia\", 'coronary artery\\ndis...\n",
       "1    ['Methotrexate', 'UTI', 'rheumatoid arthritis'...\n",
       "2    ['Allergies', 'syncope', 'DVT', 'CHF', 'HTN', ...\n",
       "3    ['Allergies', 'Codeine', 'Remicade', 'Vancomyc...\n",
       "4    ['Penicillins', 'seizure', 'hematemesis', 'tra...\n",
       "Name: entites, dtype: object"
      ]
     },
     "execution_count": 7,
     "metadata": {},
     "output_type": "execute_result"
    }
   ],
   "source": [
    "csv2['entites'].head()"
   ]
  },
  {
   "cell_type": "code",
   "execution_count": 8,
   "metadata": {
    "colab": {
     "base_uri": "https://localhost:8080/"
    },
    "id": "HWBAM6NHqZCR",
    "outputId": "2966a53f-c631-4c9a-eaf1-7718c24f3101"
   },
   "outputs": [
    {
     "name": "stdout",
     "output_type": "stream",
     "text": [
      "<class 'pandas.core.frame.DataFrame'>\n",
      "RangeIndex: 52726 entries, 0 to 52725\n",
      "Data columns (total 4 columns):\n",
      " #   Column     Non-Null Count  Dtype \n",
      "---  ------     --------------  ----- \n",
      " 0   HADM_ID    52726 non-null  int64 \n",
      " 1   TEXT       52726 non-null  object\n",
      " 2   ICD9_CODE  52722 non-null  object\n",
      " 3   Label      52726 non-null  int64 \n",
      "dtypes: int64(2), object(2)\n",
      "memory usage: 1.6+ MB\n"
     ]
    }
   ],
   "source": [
    "csv3.info()"
   ]
  },
  {
   "cell_type": "code",
   "execution_count": 9,
   "metadata": {
    "colab": {
     "base_uri": "https://localhost:8080/",
     "height": 241
    },
    "id": "Qi_CxX1lDkqy",
    "outputId": "804d13e4-e9e2-4035-966b-abf7ba4fef69"
   },
   "outputs": [
    {
     "data": {
      "text/plain": [
       "0    Admission Date:  [**2117-9-11**]              ...\n",
       "1    Admission Date:  [**2150-4-17**]              ...\n",
       "2    Admission Date:  [**2108-4-6**]       Discharg...\n",
       "3    Admission Date:  [**2145-3-31**]              ...\n",
       "4    Admission Date:  [**2162-5-16**]              ...\n",
       "Name: TEXT, dtype: object"
      ]
     },
     "execution_count": 9,
     "metadata": {},
     "output_type": "execute_result"
    }
   ],
   "source": [
    "csv3['TEXT'].head()"
   ]
  },
  {
   "cell_type": "code",
   "execution_count": 10,
   "metadata": {
    "colab": {
     "base_uri": "https://localhost:8080/"
    },
    "id": "YzsZlpPlTU_F",
    "outputId": "c52639ca-426d-464c-d028-b5bd2d6df02c"
   },
   "outputs": [
    {
     "name": "stdout",
     "output_type": "stream",
     "text": [
      "<class 'pandas.core.frame.DataFrame'>\n",
      "RangeIndex: 100 entries, 0 to 99\n",
      "Data columns (total 3 columns):\n",
      " #   Column   Non-Null Count  Dtype \n",
      "---  ------   --------------  ----- \n",
      " 0   HADM_ID  100 non-null    int64 \n",
      " 1   TEXT     100 non-null    object\n",
      " 2   LABLE    100 non-null    object\n",
      "dtypes: int64(1), object(2)\n",
      "memory usage: 2.5+ KB\n"
     ]
    }
   ],
   "source": [
    "csv4.info()"
   ]
  },
  {
   "cell_type": "code",
   "execution_count": 11,
   "metadata": {
    "colab": {
     "base_uri": "https://localhost:8080/",
     "height": 241
    },
    "id": "frSTVEAzDkqy",
    "outputId": "c19e5dd5-e0ee-4df8-d6d1-0895c40e1463"
   },
   "outputs": [
    {
     "data": {
      "text/plain": [
       "0    Admission Date:  [**2150-4-17**]              ...\n",
       "1    Admission Date:  [**2162-5-16**]              ...\n",
       "2    Admission Date:  [**2177-8-29**]              ...\n",
       "3    Admission Date:  [**2109-8-17**]              ...\n",
       "4    Admission Date:  [**2199-12-3**]       Dischar...\n",
       "Name: TEXT, dtype: object"
      ]
     },
     "execution_count": 11,
     "metadata": {},
     "output_type": "execute_result"
    }
   ],
   "source": [
    "csv4['TEXT'].head()"
   ]
  },
  {
   "cell_type": "markdown",
   "metadata": {
    "id": "iW9te5BLDkqz"
   },
   "source": [
    "#### Note: The CSV2, CSV3, CSV4 'TEXT' columns does not have any long text infomation so we did not take this."
   ]
  },
  {
   "cell_type": "code",
   "execution_count": 12,
   "metadata": {
    "colab": {
     "base_uri": "https://localhost:8080/"
    },
    "id": "QMeuZZhLULq_",
    "outputId": "6c4a42d6-c15e-44fa-f437-74af8706ba87"
   },
   "outputs": [
    {
     "name": "stdout",
     "output_type": "stream",
     "text": [
      "Text extraction complete! Data saved to 'output_texts.txt'.\n"
     ]
    }
   ],
   "source": [
    "import pandas as pd\n",
    "\n",
    "# Dictionary mapping CSV files to the column name containing text\n",
    "csv_files = {\n",
    "    'CSV1.csv': 'SHORT-TEXT',\n",
    "    'CSV2.csv': 'entites'\n",
    "}\n",
    "\n",
    "# Initialize an empty list to store text data\n",
    "text_data = []\n",
    "\n",
    "# Loop through each file and its corresponding text column\n",
    "for file, text_column in csv_files.items():\n",
    "    # Read CSV file\n",
    "    df = pd.read_csv(file)\n",
    "\n",
    "    # Check if the specified column exists\n",
    "    if text_column in df.columns:\n",
    "        # Append non-null text data to the list\n",
    "        text_data.extend(df[text_column].dropna().tolist())\n",
    "    else:\n",
    "        print(f\"Warning: Column '{text_column}' not found in {file}\")\n",
    "\n",
    "# Write the collected text data into a single .txt file\n",
    "with open('output_texts.txt', 'w', encoding='utf-8') as f:\n",
    "    for line in text_data:\n",
    "        f.write(f\"{line}\\n\\n\")\n",
    "\n",
    "print(\"Text extraction complete! Data saved to 'output_texts.txt'.\")"
   ]
  },
  {
   "cell_type": "markdown",
   "metadata": {
    "id": "saPKUEmWXQUG"
   },
   "source": [
    "### Task 2: Research\n",
    "Install the libraries(SpaCy – scispaCy – ‘en_core_sci_sm’/’en_ner_bc5cdr_md’).\n",
    "Install the libraries (Transformers (Hugging Face) - and any bio-medical model\n",
    "(BioBert) that can detect drugs, diseases, etc from the text)."
   ]
  },
  {
   "cell_type": "code",
   "execution_count": 13,
   "metadata": {
    "colab": {
     "base_uri": "https://localhost:8080/"
    },
    "id": "U_5e2rwaaEBS",
    "outputId": "9b001363-2d45-4249-929a-965bb1c9875e"
   },
   "outputs": [
    {
     "name": "stdout",
     "output_type": "stream",
     "text": [
      "Processing c:\\users\\user\\desktop\\dl\\uk-nlp\\en_core_sci_sm-0.5.4.tar.gz\n",
      "  Preparing metadata (setup.py): started\n",
      "  Preparing metadata (setup.py): finished with status 'done'\n",
      "Requirement already satisfied: spacy<3.8.0,>=3.7.4 in c:\\users\\user\\anaconda3\\lib\\site-packages (from en-core-sci-sm==0.5.4) (3.7.6)\n",
      "Requirement already satisfied: spacy-legacy<3.1.0,>=3.0.11 in c:\\users\\user\\anaconda3\\lib\\site-packages (from spacy<3.8.0,>=3.7.4->en-core-sci-sm==0.5.4) (3.0.12)\n",
      "Requirement already satisfied: spacy-loggers<2.0.0,>=1.0.0 in c:\\users\\user\\anaconda3\\lib\\site-packages (from spacy<3.8.0,>=3.7.4->en-core-sci-sm==0.5.4) (1.0.5)\n",
      "Requirement already satisfied: murmurhash<1.1.0,>=0.28.0 in c:\\users\\user\\anaconda3\\lib\\site-packages (from spacy<3.8.0,>=3.7.4->en-core-sci-sm==0.5.4) (1.0.10)\n",
      "Requirement already satisfied: cymem<2.1.0,>=2.0.2 in c:\\users\\user\\anaconda3\\lib\\site-packages (from spacy<3.8.0,>=3.7.4->en-core-sci-sm==0.5.4) (2.0.8)\n",
      "Requirement already satisfied: preshed<3.1.0,>=3.0.2 in c:\\users\\user\\anaconda3\\lib\\site-packages (from spacy<3.8.0,>=3.7.4->en-core-sci-sm==0.5.4) (3.0.9)\n",
      "Requirement already satisfied: thinc<8.3.0,>=8.2.2 in c:\\users\\user\\anaconda3\\lib\\site-packages (from spacy<3.8.0,>=3.7.4->en-core-sci-sm==0.5.4) (8.2.5)\n",
      "Requirement already satisfied: wasabi<1.2.0,>=0.9.1 in c:\\users\\user\\anaconda3\\lib\\site-packages (from spacy<3.8.0,>=3.7.4->en-core-sci-sm==0.5.4) (1.1.3)\n",
      "Requirement already satisfied: srsly<3.0.0,>=2.4.3 in c:\\users\\user\\anaconda3\\lib\\site-packages (from spacy<3.8.0,>=3.7.4->en-core-sci-sm==0.5.4) (2.4.8)\n",
      "Requirement already satisfied: catalogue<2.1.0,>=2.0.6 in c:\\users\\user\\anaconda3\\lib\\site-packages (from spacy<3.8.0,>=3.7.4->en-core-sci-sm==0.5.4) (2.0.10)\n",
      "Requirement already satisfied: weasel<0.5.0,>=0.1.0 in c:\\users\\user\\anaconda3\\lib\\site-packages (from spacy<3.8.0,>=3.7.4->en-core-sci-sm==0.5.4) (0.4.1)\n",
      "Requirement already satisfied: typer<1.0.0,>=0.3.0 in c:\\users\\user\\anaconda3\\lib\\site-packages (from spacy<3.8.0,>=3.7.4->en-core-sci-sm==0.5.4) (0.12.5)\n",
      "Requirement already satisfied: tqdm<5.0.0,>=4.38.0 in c:\\users\\user\\anaconda3\\lib\\site-packages (from spacy<3.8.0,>=3.7.4->en-core-sci-sm==0.5.4) (4.65.0)\n",
      "Requirement already satisfied: requests<3.0.0,>=2.13.0 in c:\\users\\user\\anaconda3\\lib\\site-packages (from spacy<3.8.0,>=3.7.4->en-core-sci-sm==0.5.4) (2.31.0)\n",
      "Requirement already satisfied: pydantic!=1.8,!=1.8.1,<3.0.0,>=1.7.4 in c:\\users\\user\\anaconda3\\lib\\site-packages (from spacy<3.8.0,>=3.7.4->en-core-sci-sm==0.5.4) (2.9.2)\n",
      "Requirement already satisfied: jinja2 in c:\\users\\user\\anaconda3\\lib\\site-packages (from spacy<3.8.0,>=3.7.4->en-core-sci-sm==0.5.4) (3.1.3)\n",
      "Requirement already satisfied: setuptools in c:\\users\\user\\anaconda3\\lib\\site-packages (from spacy<3.8.0,>=3.7.4->en-core-sci-sm==0.5.4) (68.2.2)\n",
      "Requirement already satisfied: packaging>=20.0 in c:\\users\\user\\anaconda3\\lib\\site-packages (from spacy<3.8.0,>=3.7.4->en-core-sci-sm==0.5.4) (24.1)\n",
      "Requirement already satisfied: langcodes<4.0.0,>=3.2.0 in c:\\users\\user\\anaconda3\\lib\\site-packages (from spacy<3.8.0,>=3.7.4->en-core-sci-sm==0.5.4) (3.4.1)\n",
      "Requirement already satisfied: numpy>=1.19.0 in c:\\users\\user\\anaconda3\\lib\\site-packages (from spacy<3.8.0,>=3.7.4->en-core-sci-sm==0.5.4) (1.24.3)\n",
      "Requirement already satisfied: language-data>=1.2 in c:\\users\\user\\anaconda3\\lib\\site-packages (from langcodes<4.0.0,>=3.2.0->spacy<3.8.0,>=3.7.4->en-core-sci-sm==0.5.4) (1.2.0)\n",
      "Requirement already satisfied: annotated-types>=0.6.0 in c:\\users\\user\\anaconda3\\lib\\site-packages (from pydantic!=1.8,!=1.8.1,<3.0.0,>=1.7.4->spacy<3.8.0,>=3.7.4->en-core-sci-sm==0.5.4) (0.6.0)\n",
      "Requirement already satisfied: pydantic-core==2.23.4 in c:\\users\\user\\anaconda3\\lib\\site-packages (from pydantic!=1.8,!=1.8.1,<3.0.0,>=1.7.4->spacy<3.8.0,>=3.7.4->en-core-sci-sm==0.5.4) (2.23.4)\n",
      "Requirement already satisfied: typing-extensions>=4.6.1 in c:\\users\\user\\anaconda3\\lib\\site-packages (from pydantic!=1.8,!=1.8.1,<3.0.0,>=1.7.4->spacy<3.8.0,>=3.7.4->en-core-sci-sm==0.5.4) (4.11.0)\n",
      "Requirement already satisfied: charset-normalizer<4,>=2 in c:\\users\\user\\anaconda3\\lib\\site-packages (from requests<3.0.0,>=2.13.0->spacy<3.8.0,>=3.7.4->en-core-sci-sm==0.5.4) (3.3.2)\n",
      "Requirement already satisfied: idna<4,>=2.5 in c:\\users\\user\\anaconda3\\lib\\site-packages (from requests<3.0.0,>=2.13.0->spacy<3.8.0,>=3.7.4->en-core-sci-sm==0.5.4) (3.4)\n",
      "Requirement already satisfied: urllib3<3,>=1.21.1 in c:\\users\\user\\anaconda3\\lib\\site-packages (from requests<3.0.0,>=2.13.0->spacy<3.8.0,>=3.7.4->en-core-sci-sm==0.5.4) (2.0.7)\n",
      "Requirement already satisfied: certifi>=2017.4.17 in c:\\users\\user\\anaconda3\\lib\\site-packages (from requests<3.0.0,>=2.13.0->spacy<3.8.0,>=3.7.4->en-core-sci-sm==0.5.4) (2024.2.2)\n",
      "Requirement already satisfied: blis<0.8.0,>=0.7.8 in c:\\users\\user\\anaconda3\\lib\\site-packages (from thinc<8.3.0,>=8.2.2->spacy<3.8.0,>=3.7.4->en-core-sci-sm==0.5.4) (0.7.11)\n",
      "Requirement already satisfied: confection<1.0.0,>=0.0.1 in c:\\users\\user\\anaconda3\\lib\\site-packages (from thinc<8.3.0,>=8.2.2->spacy<3.8.0,>=3.7.4->en-core-sci-sm==0.5.4) (0.1.5)\n",
      "Requirement already satisfied: colorama in c:\\users\\user\\anaconda3\\lib\\site-packages (from tqdm<5.0.0,>=4.38.0->spacy<3.8.0,>=3.7.4->en-core-sci-sm==0.5.4) (0.4.6)\n",
      "Requirement already satisfied: click>=8.0.0 in c:\\users\\user\\anaconda3\\lib\\site-packages (from typer<1.0.0,>=0.3.0->spacy<3.8.0,>=3.7.4->en-core-sci-sm==0.5.4) (8.1.7)\n",
      "Requirement already satisfied: shellingham>=1.3.0 in c:\\users\\user\\anaconda3\\lib\\site-packages (from typer<1.0.0,>=0.3.0->spacy<3.8.0,>=3.7.4->en-core-sci-sm==0.5.4) (1.5.4)\n",
      "Requirement already satisfied: rich>=10.11.0 in c:\\users\\user\\anaconda3\\lib\\site-packages (from typer<1.0.0,>=0.3.0->spacy<3.8.0,>=3.7.4->en-core-sci-sm==0.5.4) (13.3.5)\n",
      "Requirement already satisfied: cloudpathlib<1.0.0,>=0.7.0 in c:\\users\\user\\anaconda3\\lib\\site-packages (from weasel<0.5.0,>=0.1.0->spacy<3.8.0,>=3.7.4->en-core-sci-sm==0.5.4) (0.19.0)\n",
      "Requirement already satisfied: smart-open<8.0.0,>=5.2.1 in c:\\users\\user\\anaconda3\\lib\\site-packages (from weasel<0.5.0,>=0.1.0->spacy<3.8.0,>=3.7.4->en-core-sci-sm==0.5.4) (5.2.1)\n",
      "Requirement already satisfied: MarkupSafe>=2.0 in c:\\users\\user\\anaconda3\\lib\\site-packages (from jinja2->spacy<3.8.0,>=3.7.4->en-core-sci-sm==0.5.4) (2.1.3)\n",
      "Requirement already satisfied: marisa-trie>=0.7.7 in c:\\users\\user\\anaconda3\\lib\\site-packages (from language-data>=1.2->langcodes<4.0.0,>=3.2.0->spacy<3.8.0,>=3.7.4->en-core-sci-sm==0.5.4) (1.2.0)\n",
      "Requirement already satisfied: markdown-it-py<3.0.0,>=2.2.0 in c:\\users\\user\\anaconda3\\lib\\site-packages (from rich>=10.11.0->typer<1.0.0,>=0.3.0->spacy<3.8.0,>=3.7.4->en-core-sci-sm==0.5.4) (2.2.0)\n",
      "Requirement already satisfied: pygments<3.0.0,>=2.13.0 in c:\\users\\user\\anaconda3\\lib\\site-packages (from rich>=10.11.0->typer<1.0.0,>=0.3.0->spacy<3.8.0,>=3.7.4->en-core-sci-sm==0.5.4) (2.15.1)\n",
      "Requirement already satisfied: mdurl~=0.1 in c:\\users\\user\\anaconda3\\lib\\site-packages (from markdown-it-py<3.0.0,>=2.2.0->rich>=10.11.0->typer<1.0.0,>=0.3.0->spacy<3.8.0,>=3.7.4->en-core-sci-sm==0.5.4) (0.1.0)\n",
      "Building wheels for collected packages: en-core-sci-sm\n",
      "  Building wheel for en-core-sci-sm (setup.py): started\n",
      "  Building wheel for en-core-sci-sm (setup.py): finished with status 'done'\n",
      "  Created wheel for en-core-sci-sm: filename=en_core_sci_sm-0.5.4-py3-none-any.whl size=14778508 sha256=3bcd92ea3a7e543dd1dd4cbd5f7758f1121cc8a9f6d8e2328ce9693dbcedd5ba\n",
      "  Stored in directory: c:\\users\\user\\appdata\\local\\pip\\cache\\wheels\\e4\\67\\ed\\3e2b7d89be5052ac9695450efe7d11f6eacb1878ee2c8b6872\n",
      "Successfully built en-core-sci-sm\n",
      "Installing collected packages: en-core-sci-sm\n",
      "  Attempting uninstall: en-core-sci-sm\n",
      "    Found existing installation: en-core-sci-sm 0.5.4\n",
      "    Uninstalling en-core-sci-sm-0.5.4:\n",
      "      Successfully uninstalled en-core-sci-sm-0.5.4\n",
      "Successfully installed en-core-sci-sm-0.5.4\n"
     ]
    }
   ],
   "source": [
    "# Install the 'en_core_sci_sm' library\n",
    "!pip install en_core_sci_sm-0.5.4.tar.gz"
   ]
  },
  {
   "cell_type": "code",
   "execution_count": 14,
   "metadata": {
    "colab": {
     "base_uri": "https://localhost:8080/"
    },
    "id": "uk9hd4vsbu7P",
    "outputId": "4c4c6f73-6277-4ec6-9ad6-fcae07bd2a5c"
   },
   "outputs": [
    {
     "name": "stdout",
     "output_type": "stream",
     "text": [
      "Processing c:\\users\\user\\desktop\\dl\\uk-nlp\\en_ner_bc5cdr_md-0.5.4.tar.gz\n",
      "  Preparing metadata (setup.py): started\n",
      "  Preparing metadata (setup.py): finished with status 'done'\n",
      "Requirement already satisfied: spacy<3.8.0,>=3.7.4 in c:\\users\\user\\anaconda3\\lib\\site-packages (from en-ner-bc5cdr-md==0.5.4) (3.7.6)\n",
      "Requirement already satisfied: spacy-legacy<3.1.0,>=3.0.11 in c:\\users\\user\\anaconda3\\lib\\site-packages (from spacy<3.8.0,>=3.7.4->en-ner-bc5cdr-md==0.5.4) (3.0.12)\n",
      "Requirement already satisfied: spacy-loggers<2.0.0,>=1.0.0 in c:\\users\\user\\anaconda3\\lib\\site-packages (from spacy<3.8.0,>=3.7.4->en-ner-bc5cdr-md==0.5.4) (1.0.5)\n",
      "Requirement already satisfied: murmurhash<1.1.0,>=0.28.0 in c:\\users\\user\\anaconda3\\lib\\site-packages (from spacy<3.8.0,>=3.7.4->en-ner-bc5cdr-md==0.5.4) (1.0.10)\n",
      "Requirement already satisfied: cymem<2.1.0,>=2.0.2 in c:\\users\\user\\anaconda3\\lib\\site-packages (from spacy<3.8.0,>=3.7.4->en-ner-bc5cdr-md==0.5.4) (2.0.8)\n",
      "Requirement already satisfied: preshed<3.1.0,>=3.0.2 in c:\\users\\user\\anaconda3\\lib\\site-packages (from spacy<3.8.0,>=3.7.4->en-ner-bc5cdr-md==0.5.4) (3.0.9)\n",
      "Requirement already satisfied: thinc<8.3.0,>=8.2.2 in c:\\users\\user\\anaconda3\\lib\\site-packages (from spacy<3.8.0,>=3.7.4->en-ner-bc5cdr-md==0.5.4) (8.2.5)\n",
      "Requirement already satisfied: wasabi<1.2.0,>=0.9.1 in c:\\users\\user\\anaconda3\\lib\\site-packages (from spacy<3.8.0,>=3.7.4->en-ner-bc5cdr-md==0.5.4) (1.1.3)\n",
      "Requirement already satisfied: srsly<3.0.0,>=2.4.3 in c:\\users\\user\\anaconda3\\lib\\site-packages (from spacy<3.8.0,>=3.7.4->en-ner-bc5cdr-md==0.5.4) (2.4.8)\n",
      "Requirement already satisfied: catalogue<2.1.0,>=2.0.6 in c:\\users\\user\\anaconda3\\lib\\site-packages (from spacy<3.8.0,>=3.7.4->en-ner-bc5cdr-md==0.5.4) (2.0.10)\n",
      "Requirement already satisfied: weasel<0.5.0,>=0.1.0 in c:\\users\\user\\anaconda3\\lib\\site-packages (from spacy<3.8.0,>=3.7.4->en-ner-bc5cdr-md==0.5.4) (0.4.1)\n",
      "Requirement already satisfied: typer<1.0.0,>=0.3.0 in c:\\users\\user\\anaconda3\\lib\\site-packages (from spacy<3.8.0,>=3.7.4->en-ner-bc5cdr-md==0.5.4) (0.12.5)\n",
      "Requirement already satisfied: tqdm<5.0.0,>=4.38.0 in c:\\users\\user\\anaconda3\\lib\\site-packages (from spacy<3.8.0,>=3.7.4->en-ner-bc5cdr-md==0.5.4) (4.65.0)\n",
      "Requirement already satisfied: requests<3.0.0,>=2.13.0 in c:\\users\\user\\anaconda3\\lib\\site-packages (from spacy<3.8.0,>=3.7.4->en-ner-bc5cdr-md==0.5.4) (2.31.0)\n",
      "Requirement already satisfied: pydantic!=1.8,!=1.8.1,<3.0.0,>=1.7.4 in c:\\users\\user\\anaconda3\\lib\\site-packages (from spacy<3.8.0,>=3.7.4->en-ner-bc5cdr-md==0.5.4) (2.9.2)\n",
      "Requirement already satisfied: jinja2 in c:\\users\\user\\anaconda3\\lib\\site-packages (from spacy<3.8.0,>=3.7.4->en-ner-bc5cdr-md==0.5.4) (3.1.3)\n",
      "Requirement already satisfied: setuptools in c:\\users\\user\\anaconda3\\lib\\site-packages (from spacy<3.8.0,>=3.7.4->en-ner-bc5cdr-md==0.5.4) (68.2.2)\n",
      "Requirement already satisfied: packaging>=20.0 in c:\\users\\user\\anaconda3\\lib\\site-packages (from spacy<3.8.0,>=3.7.4->en-ner-bc5cdr-md==0.5.4) (24.1)\n",
      "Requirement already satisfied: langcodes<4.0.0,>=3.2.0 in c:\\users\\user\\anaconda3\\lib\\site-packages (from spacy<3.8.0,>=3.7.4->en-ner-bc5cdr-md==0.5.4) (3.4.1)\n",
      "Requirement already satisfied: numpy>=1.19.0 in c:\\users\\user\\anaconda3\\lib\\site-packages (from spacy<3.8.0,>=3.7.4->en-ner-bc5cdr-md==0.5.4) (1.24.3)\n",
      "Requirement already satisfied: language-data>=1.2 in c:\\users\\user\\anaconda3\\lib\\site-packages (from langcodes<4.0.0,>=3.2.0->spacy<3.8.0,>=3.7.4->en-ner-bc5cdr-md==0.5.4) (1.2.0)\n",
      "Requirement already satisfied: annotated-types>=0.6.0 in c:\\users\\user\\anaconda3\\lib\\site-packages (from pydantic!=1.8,!=1.8.1,<3.0.0,>=1.7.4->spacy<3.8.0,>=3.7.4->en-ner-bc5cdr-md==0.5.4) (0.6.0)\n",
      "Requirement already satisfied: pydantic-core==2.23.4 in c:\\users\\user\\anaconda3\\lib\\site-packages (from pydantic!=1.8,!=1.8.1,<3.0.0,>=1.7.4->spacy<3.8.0,>=3.7.4->en-ner-bc5cdr-md==0.5.4) (2.23.4)\n",
      "Requirement already satisfied: typing-extensions>=4.6.1 in c:\\users\\user\\anaconda3\\lib\\site-packages (from pydantic!=1.8,!=1.8.1,<3.0.0,>=1.7.4->spacy<3.8.0,>=3.7.4->en-ner-bc5cdr-md==0.5.4) (4.11.0)\n",
      "Requirement already satisfied: charset-normalizer<4,>=2 in c:\\users\\user\\anaconda3\\lib\\site-packages (from requests<3.0.0,>=2.13.0->spacy<3.8.0,>=3.7.4->en-ner-bc5cdr-md==0.5.4) (3.3.2)\n",
      "Requirement already satisfied: idna<4,>=2.5 in c:\\users\\user\\anaconda3\\lib\\site-packages (from requests<3.0.0,>=2.13.0->spacy<3.8.0,>=3.7.4->en-ner-bc5cdr-md==0.5.4) (3.4)\n",
      "Requirement already satisfied: urllib3<3,>=1.21.1 in c:\\users\\user\\anaconda3\\lib\\site-packages (from requests<3.0.0,>=2.13.0->spacy<3.8.0,>=3.7.4->en-ner-bc5cdr-md==0.5.4) (2.0.7)\n",
      "Requirement already satisfied: certifi>=2017.4.17 in c:\\users\\user\\anaconda3\\lib\\site-packages (from requests<3.0.0,>=2.13.0->spacy<3.8.0,>=3.7.4->en-ner-bc5cdr-md==0.5.4) (2024.2.2)\n",
      "Requirement already satisfied: blis<0.8.0,>=0.7.8 in c:\\users\\user\\anaconda3\\lib\\site-packages (from thinc<8.3.0,>=8.2.2->spacy<3.8.0,>=3.7.4->en-ner-bc5cdr-md==0.5.4) (0.7.11)\n",
      "Requirement already satisfied: confection<1.0.0,>=0.0.1 in c:\\users\\user\\anaconda3\\lib\\site-packages (from thinc<8.3.0,>=8.2.2->spacy<3.8.0,>=3.7.4->en-ner-bc5cdr-md==0.5.4) (0.1.5)\n",
      "Requirement already satisfied: colorama in c:\\users\\user\\anaconda3\\lib\\site-packages (from tqdm<5.0.0,>=4.38.0->spacy<3.8.0,>=3.7.4->en-ner-bc5cdr-md==0.5.4) (0.4.6)\n",
      "Requirement already satisfied: click>=8.0.0 in c:\\users\\user\\anaconda3\\lib\\site-packages (from typer<1.0.0,>=0.3.0->spacy<3.8.0,>=3.7.4->en-ner-bc5cdr-md==0.5.4) (8.1.7)\n",
      "Requirement already satisfied: shellingham>=1.3.0 in c:\\users\\user\\anaconda3\\lib\\site-packages (from typer<1.0.0,>=0.3.0->spacy<3.8.0,>=3.7.4->en-ner-bc5cdr-md==0.5.4) (1.5.4)\n",
      "Requirement already satisfied: rich>=10.11.0 in c:\\users\\user\\anaconda3\\lib\\site-packages (from typer<1.0.0,>=0.3.0->spacy<3.8.0,>=3.7.4->en-ner-bc5cdr-md==0.5.4) (13.3.5)\n",
      "Requirement already satisfied: cloudpathlib<1.0.0,>=0.7.0 in c:\\users\\user\\anaconda3\\lib\\site-packages (from weasel<0.5.0,>=0.1.0->spacy<3.8.0,>=3.7.4->en-ner-bc5cdr-md==0.5.4) (0.19.0)\n",
      "Requirement already satisfied: smart-open<8.0.0,>=5.2.1 in c:\\users\\user\\anaconda3\\lib\\site-packages (from weasel<0.5.0,>=0.1.0->spacy<3.8.0,>=3.7.4->en-ner-bc5cdr-md==0.5.4) (5.2.1)\n",
      "Requirement already satisfied: MarkupSafe>=2.0 in c:\\users\\user\\anaconda3\\lib\\site-packages (from jinja2->spacy<3.8.0,>=3.7.4->en-ner-bc5cdr-md==0.5.4) (2.1.3)\n",
      "Requirement already satisfied: marisa-trie>=0.7.7 in c:\\users\\user\\anaconda3\\lib\\site-packages (from language-data>=1.2->langcodes<4.0.0,>=3.2.0->spacy<3.8.0,>=3.7.4->en-ner-bc5cdr-md==0.5.4) (1.2.0)\n",
      "Requirement already satisfied: markdown-it-py<3.0.0,>=2.2.0 in c:\\users\\user\\anaconda3\\lib\\site-packages (from rich>=10.11.0->typer<1.0.0,>=0.3.0->spacy<3.8.0,>=3.7.4->en-ner-bc5cdr-md==0.5.4) (2.2.0)\n",
      "Requirement already satisfied: pygments<3.0.0,>=2.13.0 in c:\\users\\user\\anaconda3\\lib\\site-packages (from rich>=10.11.0->typer<1.0.0,>=0.3.0->spacy<3.8.0,>=3.7.4->en-ner-bc5cdr-md==0.5.4) (2.15.1)\n",
      "Requirement already satisfied: mdurl~=0.1 in c:\\users\\user\\anaconda3\\lib\\site-packages (from markdown-it-py<3.0.0,>=2.2.0->rich>=10.11.0->typer<1.0.0,>=0.3.0->spacy<3.8.0,>=3.7.4->en-ner-bc5cdr-md==0.5.4) (0.1.0)\n",
      "Building wheels for collected packages: en-ner-bc5cdr-md\n",
      "  Building wheel for en-ner-bc5cdr-md (setup.py): started\n",
      "  Building wheel for en-ner-bc5cdr-md (setup.py): finished with status 'done'\n",
      "  Created wheel for en-ner-bc5cdr-md: filename=en_ner_bc5cdr_md-0.5.4-py3-none-any.whl size=119787697 sha256=d939dfe002a03d0ff25d6a74f435d87f8a098242f19ced1428de522ef62bac8e\n",
      "  Stored in directory: c:\\users\\user\\appdata\\local\\pip\\cache\\wheels\\1f\\af\\b0\\fb03de9a11df95db972961c3185e355328f49a68701ccfbc00\n",
      "Successfully built en-ner-bc5cdr-md\n",
      "Installing collected packages: en-ner-bc5cdr-md\n",
      "  Attempting uninstall: en-ner-bc5cdr-md\n",
      "    Found existing installation: en-ner-bc5cdr-md 0.5.4\n",
      "    Uninstalling en-ner-bc5cdr-md-0.5.4:\n",
      "      Successfully uninstalled en-ner-bc5cdr-md-0.5.4\n",
      "Successfully installed en-ner-bc5cdr-md-0.5.4\n"
     ]
    }
   ],
   "source": [
    "# Install the 'en_ner_bc5cdr_md' library\n",
    "!pip install en_ner_bc5cdr_md-0.5.4.tar.gz"
   ]
  },
  {
   "cell_type": "markdown",
   "metadata": {
    "id": "lY_DWzDSs_nj"
   },
   "source": [
    "### Implement SpaCy – scispaCy"
   ]
  },
  {
   "cell_type": "code",
   "execution_count": 15,
   "metadata": {
    "id": "Opw9uTD9lHXx"
   },
   "outputs": [],
   "source": [
    "# Load the Model\n",
    "import spacy\n",
    "\n",
    "# Load scispaCy models\n",
    "nlp_sci = spacy.load(\"en_core_sci_sm\")\n",
    "nlp_bc5cdr = spacy.load(\"en_ner_bc5cdr_md\")"
   ]
  },
  {
   "cell_type": "markdown",
   "metadata": {
    "id": "jJzr-oq4tCVf"
   },
   "source": [
    "### Implement Transformers- and BioBert model"
   ]
  },
  {
   "cell_type": "code",
   "execution_count": 16,
   "metadata": {
    "colab": {
     "base_uri": "https://localhost:8080/"
    },
    "id": "iS0kw8QQtO2K",
    "outputId": "c8843dc2-ff1a-4bc1-a42a-85cc70e32ee4"
   },
   "outputs": [
    {
     "name": "stdout",
     "output_type": "stream",
     "text": [
      "Requirement already satisfied: transformers in c:\\users\\user\\anaconda3\\lib\\site-packages (4.40.2)\n",
      "Requirement already satisfied: filelock in c:\\users\\user\\anaconda3\\lib\\site-packages (from transformers) (3.13.1)\n",
      "Requirement already satisfied: huggingface-hub<1.0,>=0.19.3 in c:\\users\\user\\anaconda3\\lib\\site-packages (from transformers) (0.23.0)\n",
      "Requirement already satisfied: numpy>=1.17 in c:\\users\\user\\anaconda3\\lib\\site-packages (from transformers) (1.24.3)\n",
      "Requirement already satisfied: packaging>=20.0 in c:\\users\\user\\anaconda3\\lib\\site-packages (from transformers) (24.1)\n",
      "Requirement already satisfied: pyyaml>=5.1 in c:\\users\\user\\anaconda3\\lib\\site-packages (from transformers) (6.0.1)\n",
      "Requirement already satisfied: regex!=2019.12.17 in c:\\users\\user\\anaconda3\\lib\\site-packages (from transformers) (2023.10.3)\n",
      "Requirement already satisfied: requests in c:\\users\\user\\anaconda3\\lib\\site-packages (from transformers) (2.31.0)\n",
      "Requirement already satisfied: tokenizers<0.20,>=0.19 in c:\\users\\user\\anaconda3\\lib\\site-packages (from transformers) (0.19.1)\n",
      "Requirement already satisfied: safetensors>=0.4.1 in c:\\users\\user\\anaconda3\\lib\\site-packages (from transformers) (0.4.3)\n",
      "Requirement already satisfied: tqdm>=4.27 in c:\\users\\user\\anaconda3\\lib\\site-packages (from transformers) (4.65.0)\n",
      "Requirement already satisfied: fsspec>=2023.5.0 in c:\\users\\user\\anaconda3\\lib\\site-packages (from huggingface-hub<1.0,>=0.19.3->transformers) (2023.10.0)\n",
      "Requirement already satisfied: typing-extensions>=3.7.4.3 in c:\\users\\user\\anaconda3\\lib\\site-packages (from huggingface-hub<1.0,>=0.19.3->transformers) (4.11.0)\n",
      "Requirement already satisfied: colorama in c:\\users\\user\\anaconda3\\lib\\site-packages (from tqdm>=4.27->transformers) (0.4.6)\n",
      "Requirement already satisfied: charset-normalizer<4,>=2 in c:\\users\\user\\anaconda3\\lib\\site-packages (from requests->transformers) (3.3.2)\n",
      "Requirement already satisfied: idna<4,>=2.5 in c:\\users\\user\\anaconda3\\lib\\site-packages (from requests->transformers) (3.4)\n",
      "Requirement already satisfied: urllib3<3,>=1.21.1 in c:\\users\\user\\anaconda3\\lib\\site-packages (from requests->transformers) (2.0.7)\n",
      "Requirement already satisfied: certifi>=2017.4.17 in c:\\users\\user\\anaconda3\\lib\\site-packages (from requests->transformers) (2024.2.2)\n",
      "Requirement already satisfied: torch in c:\\users\\user\\anaconda3\\lib\\site-packages (2.3.0)\n",
      "Requirement already satisfied: filelock in c:\\users\\user\\anaconda3\\lib\\site-packages (from torch) (3.13.1)\n",
      "Requirement already satisfied: typing-extensions>=4.8.0 in c:\\users\\user\\anaconda3\\lib\\site-packages (from torch) (4.11.0)\n",
      "Requirement already satisfied: sympy in c:\\users\\user\\anaconda3\\lib\\site-packages (from torch) (1.12)\n",
      "Requirement already satisfied: networkx in c:\\users\\user\\anaconda3\\lib\\site-packages (from torch) (3.1)\n",
      "Requirement already satisfied: jinja2 in c:\\users\\user\\anaconda3\\lib\\site-packages (from torch) (3.1.3)\n",
      "Requirement already satisfied: fsspec in c:\\users\\user\\anaconda3\\lib\\site-packages (from torch) (2023.10.0)\n",
      "Requirement already satisfied: mkl<=2021.4.0,>=2021.1.1 in c:\\users\\user\\anaconda3\\lib\\site-packages (from torch) (2021.4.0)\n",
      "Requirement already satisfied: intel-openmp==2021.* in c:\\users\\user\\anaconda3\\lib\\site-packages (from mkl<=2021.4.0,>=2021.1.1->torch) (2021.4.0)\n",
      "Requirement already satisfied: tbb==2021.* in c:\\users\\user\\anaconda3\\lib\\site-packages (from mkl<=2021.4.0,>=2021.1.1->torch) (2021.12.0)\n",
      "Requirement already satisfied: MarkupSafe>=2.0 in c:\\users\\user\\anaconda3\\lib\\site-packages (from jinja2->torch) (2.1.3)\n",
      "Requirement already satisfied: mpmath>=0.19 in c:\\users\\user\\anaconda3\\lib\\site-packages (from sympy->torch) (1.3.0)\n"
     ]
    }
   ],
   "source": [
    "# Install Required Libraries\n",
    "!pip install transformers\n",
    "!pip install torch"
   ]
  },
  {
   "cell_type": "code",
   "execution_count": 17,
   "metadata": {
    "colab": {
     "base_uri": "https://localhost:8080/",
     "height": 169,
     "referenced_widgets": [
      "52d0986e6b894672943533414cead729",
      "4717328c4ece49f895ef8747e24e83ff",
      "19d04659f84a4b3f8a3c78d899fa2f09",
      "9dd7ceec971b4f13801b2647b30519d7",
      "8767ec04a1e4442592591ffd41775d4b",
      "2083ce877ef448d9bb64df70ea879983",
      "1bf9f377c5c1424598f6d51a83d853e1",
      "ca4a8310967d4558a4de6455c7c4bc56",
      "8e5617a3e9564057bc73b284708e9db4",
      "d5117565f29d455f8a24dd4efba3331b",
      "4249d50082cc4fdf80b214295274f6e9",
      "c75c4e742c394c8888e819b8d1cb3d63",
      "c627ece3af834e598b9e0cb48f656c93",
      "28cadbf240094f89811a97517068791a",
      "bd9badd86b63454686ef84d238b5d12a",
      "0e48990f08b44a80b4d011ff65970446",
      "06273e4e5306488d9f7d13a39e8ce1e4",
      "c338d649a11a4cbab1053a29961fa817",
      "896017c72f084ae094b743f499dc61d7",
      "8f9c93a9f5b94f899f4f19036d239baf",
      "ea836aab40d746ccb7e01d25339831f3",
      "048a3411acbe421fb6ae2a5cc61346f9",
      "b7cd2553f24e4aae806ce045580f5bc3",
      "9247dc6fc8e3441fa0ce4a7a6185ec88",
      "7a424a78c36244b184a0c6f2759e364d",
      "0ff58c77dfd547048012a4ff29ce67a1",
      "be7f075ef8654a3388766eb577ac7152",
      "1f4b4572ac6343a3baa0847f6c4f2759",
      "01b4b28dcc084e689fc793b52bdca840",
      "87f13b459a0f460c99b771b6b39b3ca4",
      "e17b62ad5e584db2ad624cc4e6a76d9d",
      "acba2ca5f9dd482ea0d7b3ee4f2176b8",
      "190c2069abaf4d93abd24b4e3cc8091d"
     ]
    },
    "id": "F1q31i_1sPnU",
    "outputId": "f1f39f51-973b-4689-962a-afe2b19ddb4f"
   },
   "outputs": [
    {
     "name": "stderr",
     "output_type": "stream",
     "text": [
      "Some weights of BertForTokenClassification were not initialized from the model checkpoint at dmis-lab/biobert-base-cased-v1.1 and are newly initialized: ['classifier.bias', 'classifier.weight']\n",
      "You should probably TRAIN this model on a down-stream task to be able to use it for predictions and inference.\n"
     ]
    }
   ],
   "source": [
    "# Load BioBERT Model\n",
    "from transformers import AutoTokenizer, AutoModelForTokenClassification, pipeline\n",
    "\n",
    "# Load the BioBERT model and tokenizer\n",
    "model_name = \"dmis-lab/biobert-base-cased-v1.1\"\n",
    "tokenizer = AutoTokenizer.from_pretrained(model_name)\n",
    "model = AutoModelForTokenClassification.from_pretrained(model_name)\n",
    "\n",
    "# Create a pipeline for named entity recognition (NER)\n",
    "ner_pipeline = pipeline(\"ner\", model=model, tokenizer=tokenizer)"
   ]
  },
  {
   "cell_type": "markdown",
   "metadata": {
    "id": "85JJjM5TvW5o"
   },
   "source": [
    "### Task 3: Programming and Research"
   ]
  },
  {
   "cell_type": "markdown",
   "metadata": {
    "id": "btZbgElHvbEV"
   },
   "source": [
    "3.1:\n",
    "Using any in-built library present in Python, count the occurrences of the words\n",
    "in the text (.txt) and give the ‘Top 30’ most common words.\n",
    "And store the ‘Top 30’ common words and their counts into a CSV file."
   ]
  },
  {
   "cell_type": "code",
   "execution_count": 18,
   "metadata": {
    "colab": {
     "base_uri": "https://localhost:8080/"
    },
    "id": "-eJmv7tGvZ60",
    "outputId": "0fd25ce5-61fe-4e14-c0b8-efe8f690b8d9"
   },
   "outputs": [
    {
     "name": "stdout",
     "output_type": "stream",
     "text": [
      "Top 30 common words and their counts have been saved to 'top_30_words.csv'.\n"
     ]
    }
   ],
   "source": [
    "import csv\n",
    "from collections import Counter\n",
    "import re\n",
    "\n",
    "# Read the Text File\n",
    "with open('output_texts.txt', 'r') as file:\n",
    "    text = file.read()\n",
    "\n",
    "# Count Word Occurrences\n",
    "# Remove punctuation and convert to lowercase\n",
    "text = re.sub(r'[^\\w\\s]', '', text.lower())\n",
    "words = text.split()\n",
    "\n",
    "# Count occurrences of each word\n",
    "word_counts = Counter(words)\n",
    "\n",
    "# Get the Top 30 Most Common Words\n",
    "top_30_common = word_counts.most_common(30)\n",
    "\n",
    "# Save the Results to a CSV File\n",
    "with open('top_30_words.csv', 'w', newline='') as csvfile:\n",
    "    writer = csv.writer(csvfile)\n",
    "    writer.writerow(['Word', 'Count'])\n",
    "    writer.writerows(top_30_common)\n",
    "\n",
    "print(\"Top 30 common words and their counts have been saved to 'top_30_words.csv'.\")"
   ]
  },
  {
   "cell_type": "markdown",
   "metadata": {
    "id": "26qXDdMew9VA"
   },
   "source": [
    "3.2:\n",
    "Using the 'Auto Tokenizer' function in the 'Transformers' library, write a\n",
    "'function' to count unique tokens in the text (.txt) and give the 'Top 30' words."
   ]
  },
  {
   "cell_type": "code",
   "execution_count": 19,
   "metadata": {
    "colab": {
     "base_uri": "https://localhost:8080/"
    },
    "id": "Ih3lrYA-Dkqz",
    "outputId": "82c97883-1eff-4979-d0c1-1b2afd94e456"
   },
   "outputs": [
    {
     "name": "stderr",
     "output_type": "stream",
     "text": [
      "Processing chunks: 100%|██████████████████████████████████████████████████████████████| 2/2 [01:13<00:00, 36.76s/chunk]"
     ]
    },
    {
     "name": "stdout",
     "output_type": "stream",
     "text": [
      "Top 30 tokens and their counts:\n",
      "the: 537846\n",
      "and: 486726\n",
      "p: 426760\n",
      "was: 404902\n",
      "to: 403182\n",
      "of: 398844\n",
      "': 397018\n",
      "c: 334440\n",
      "a: 326169\n",
      "in: 313783\n",
      "##t: 306088\n",
      "h: 288932\n",
      "with: 281992\n",
      "on: 261817\n",
      "##c: 260324\n",
      "s: 232439\n",
      ",: 197858\n",
      "is: 196012\n",
      "m: 192607\n",
      "for: 185150\n",
      "##b: 181507\n",
      "##s: 177529\n",
      "blood: 175657\n",
      "##r: 172175\n",
      "he: 169959\n",
      "##p: 149454\n",
      "##d: 144433\n",
      "am: 144228\n",
      "no: 140698\n",
      "##g: 138891\n"
     ]
    },
    {
     "name": "stderr",
     "output_type": "stream",
     "text": [
      "\n"
     ]
    }
   ],
   "source": [
    "import torch\n",
    "from transformers import AutoTokenizer\n",
    "from collections import Counter\n",
    "from tqdm import tqdm\n",
    "import os\n",
    "\n",
    "def count_unique_tokens(text_file):\n",
    "    # Load the BioBERT tokenizer\n",
    "    tokenizer = AutoTokenizer.from_pretrained(\"dmis-lab/biobert-base-cased-v1.1\")\n",
    "\n",
    "    # Initialize a counter for token frequencies\n",
    "    token_counts = Counter()\n",
    "\n",
    "    # Set chunk size\n",
    "    chunk_size = 100 * 1024 * 1024  # 100 MB\n",
    "\n",
    "    # Get the total size of the file for tqdm progress\n",
    "    total_size = os.path.getsize(text_file)\n",
    "    num_chunks = total_size // chunk_size + (1 if total_size % chunk_size > 0 else 0)\n",
    "\n",
    "    with open(text_file, 'r') as file:\n",
    "        for _ in tqdm(range(num_chunks), desc=\"Processing chunks\", unit=\"chunk\"):\n",
    "            # Read a chunk from the file\n",
    "            chunk = file.read(chunk_size)\n",
    "            if not chunk:\n",
    "                break\n",
    "\n",
    "            # Tokenize the chunk\n",
    "            tokens = tokenizer.tokenize(chunk)\n",
    "\n",
    "            # Update the token counts\n",
    "            token_counts.update(tokens)\n",
    "\n",
    "    # Get the top 30 most common tokens\n",
    "    top_30_tokens = token_counts.most_common(30)\n",
    "\n",
    "    # Print the top 30 tokens and their counts\n",
    "    print(\"Top 30 tokens and their counts:\")\n",
    "    for token, count in top_30_tokens:\n",
    "        print(f\"{token}: {count}\")\n",
    "\n",
    "# Run\n",
    "count_unique_tokens('output_texts.txt')"
   ]
  },
  {
   "cell_type": "markdown",
   "metadata": {
    "id": "LFUVnYjvDkq0"
   },
   "source": [
    "### Task 4: Named-Entity Recognition (NER)\n",
    "Extract the 'diseases', and 'drugs' entities in the '.txt file' separately using\n",
    "'en_core_sci_sm'/'en_ner_bc5cdr_md' and biobert. And compare the\n",
    "differences between the two models (Example: Total entities detected by both\n",
    "of them, what's the difference, check for most common words, and check the\n",
    "difference.)"
   ]
  },
  {
   "cell_type": "markdown",
   "metadata": {},
   "source": [
    "### Loading the SpaCy Models"
   ]
  },
  {
   "cell_type": "code",
   "execution_count": null,
   "metadata": {},
   "outputs": [],
   "source": [
    "import spacy\n",
    "\n",
    "# Load SciSpacy models\n",
    "nlp_sci_sm = spacy.load(\"en_core_sci_sm\")\n",
    "nlp_bc5cdr = spacy.load(\"en_ner_bc5cdr_md\")\n",
    "\n",
    "# Increase max_length limit\n",
    "nlp_sci_sm.max_length = 2000000 \n",
    "nlp_bc5cdr.max_length = 2000000\n",
    "\n",
    "# Function to extract entities using scispaCy models in chunks\n",
    "def extract_entities_in_chunks(text, model, chunk_size=1000000):\n",
    "    entities = []\n",
    "    for i in range(0, len(text), chunk_size):\n",
    "        chunk = text[i:i + chunk_size]\n",
    "        doc = model(chunk)\n",
    "        entities.extend([(ent.text, ent.label_) for ent in doc.ents])\n",
    "    return entities\n",
    "\n",
    "# Load txt file\n",
    "with open('output_texts.txt', 'r') as f:\n",
    "    text = f.read()\n",
    "\n",
    "# Extract entities using 'en_core_sci_sm' model in chunks\n",
    "entities_sci_sm = extract_entities_in_chunks(text, nlp_sci_sm)\n",
    "\n",
    "# Extract entities using 'en_ner_bc5cdr_md' model in chunks\n",
    "entities_bc5cdr = extract_entities_in_chunks(text, nlp_bc5cdr)\n",
    "\n",
    "# Output\n",
    "print(\"Entities from en_core_sci_sm:\", entities_sci_sm[:5])\n",
    "print(\"Entities from en_ner_bc5cdr_md:\", entities_bc5cdr[:5])"
   ]
  },
  {
   "cell_type": "markdown",
   "metadata": {},
   "source": [
    "### Loading BioBERT Model (from Hugging Face)"
   ]
  },
  {
   "cell_type": "code",
   "execution_count": null,
   "metadata": {},
   "outputs": [],
   "source": [
    "from transformers import AutoTokenizer, AutoModelForTokenClassification\n",
    "from transformers import pipeline\n",
    "\n",
    "# Load BioBERT model\n",
    "tokenizer = AutoTokenizer.from_pretrained(\"dmis-lab/biobert-base-cased-v1.1\")\n",
    "model = AutoModelForTokenClassification.from_pretrained(\"dmis-lab/biobert-base-cased-v1.1\")\n",
    "\n",
    "# Create a pipeline for NER\n",
    "ner_biobert = pipeline(\"ner\", model=model, tokenizer=tokenizer)\n",
    "\n",
    "# Extract entities using BioBERT\n",
    "entities_biobert = ner_biobert(text)"
   ]
  },
  {
   "cell_type": "markdown",
   "metadata": {},
   "source": [
    "### Comparing the Results"
   ]
  },
  {
   "cell_type": "code",
   "execution_count": null,
   "metadata": {},
   "outputs": [],
   "source": [
    "from collections import Counter\n",
    "\n",
    "# Count the total entities\n",
    "def count_entities(entities):\n",
    "    return Counter([ent[1] for ent in entities])\n",
    "\n",
    "# Compare entities between the two models\n",
    "count_sci_sm = count_entities(entities_sci_sm)\n",
    "count_bc5cdr = count_entities(entities_bc5cdr)\n",
    "count_biobert = count_entities([(ent['word'], ent['entity']) for ent in entities_biobert])\n",
    "\n",
    "# Print entity counts\n",
    "print(\"Entities from en_core_sci_sm:\", count_sci_sm)\n",
    "print(\"Entities from en_ner_bc5cdr_md:\", count_bc5cdr)\n",
    "print(\"Entities from BioBERT:\", count_biobert)\n",
    "\n",
    "# Further comparison\n",
    "def common_entities(entities1, entities2):\n",
    "    return set(entities1).intersection(set(entities2))\n",
    "\n",
    "common_with_spacy = common_entities(entities_sci_sm, entities_bc5cdr)\n",
    "common_with_biobert = common_entities(entities_sci_sm, [(ent['word'], ent['entity']) for ent in entities_biobert])\n",
    "\n",
    "print(\"Common entities between scispaCy models:\", common_with_spacy)\n",
    "print(\"Common entities between scispaCy and BioBERT:\", common_with_biobert)"
   ]
  }
 ],
 "metadata": {
  "colab": {
   "provenance": []
  },
  "kernelspec": {
   "display_name": "Python 3 (ipykernel)",
   "language": "python",
   "name": "python3"
  },
  "language_info": {
   "codemirror_mode": {
    "name": "ipython",
    "version": 3
   },
   "file_extension": ".py",
   "mimetype": "text/x-python",
   "name": "python",
   "nbconvert_exporter": "python",
   "pygments_lexer": "ipython3",
   "version": "3.11.7"
  },
  "widgets": {
   "application/vnd.jupyter.widget-state+json": {
    "01b4b28dcc084e689fc793b52bdca840": {
     "model_module": "@jupyter-widgets/controls",
     "model_module_version": "1.5.0",
     "model_name": "DescriptionStyleModel",
     "state": {
      "_model_module": "@jupyter-widgets/controls",
      "_model_module_version": "1.5.0",
      "_model_name": "DescriptionStyleModel",
      "_view_count": null,
      "_view_module": "@jupyter-widgets/base",
      "_view_module_version": "1.2.0",
      "_view_name": "StyleView",
      "description_width": ""
     }
    },
    "048a3411acbe421fb6ae2a5cc61346f9": {
     "model_module": "@jupyter-widgets/controls",
     "model_module_version": "1.5.0",
     "model_name": "DescriptionStyleModel",
     "state": {
      "_model_module": "@jupyter-widgets/controls",
      "_model_module_version": "1.5.0",
      "_model_name": "DescriptionStyleModel",
      "_view_count": null,
      "_view_module": "@jupyter-widgets/base",
      "_view_module_version": "1.2.0",
      "_view_name": "StyleView",
      "description_width": ""
     }
    },
    "06273e4e5306488d9f7d13a39e8ce1e4": {
     "model_module": "@jupyter-widgets/base",
     "model_module_version": "1.2.0",
     "model_name": "LayoutModel",
     "state": {
      "_model_module": "@jupyter-widgets/base",
      "_model_module_version": "1.2.0",
      "_model_name": "LayoutModel",
      "_view_count": null,
      "_view_module": "@jupyter-widgets/base",
      "_view_module_version": "1.2.0",
      "_view_name": "LayoutView",
      "align_content": null,
      "align_items": null,
      "align_self": null,
      "border": null,
      "bottom": null,
      "display": null,
      "flex": null,
      "flex_flow": null,
      "grid_area": null,
      "grid_auto_columns": null,
      "grid_auto_flow": null,
      "grid_auto_rows": null,
      "grid_column": null,
      "grid_gap": null,
      "grid_row": null,
      "grid_template_areas": null,
      "grid_template_columns": null,
      "grid_template_rows": null,
      "height": null,
      "justify_content": null,
      "justify_items": null,
      "left": null,
      "margin": null,
      "max_height": null,
      "max_width": null,
      "min_height": null,
      "min_width": null,
      "object_fit": null,
      "object_position": null,
      "order": null,
      "overflow": null,
      "overflow_x": null,
      "overflow_y": null,
      "padding": null,
      "right": null,
      "top": null,
      "visibility": null,
      "width": null
     }
    },
    "0e48990f08b44a80b4d011ff65970446": {
     "model_module": "@jupyter-widgets/base",
     "model_module_version": "1.2.0",
     "model_name": "LayoutModel",
     "state": {
      "_model_module": "@jupyter-widgets/base",
      "_model_module_version": "1.2.0",
      "_model_name": "LayoutModel",
      "_view_count": null,
      "_view_module": "@jupyter-widgets/base",
      "_view_module_version": "1.2.0",
      "_view_name": "LayoutView",
      "align_content": null,
      "align_items": null,
      "align_self": null,
      "border": null,
      "bottom": null,
      "display": null,
      "flex": null,
      "flex_flow": null,
      "grid_area": null,
      "grid_auto_columns": null,
      "grid_auto_flow": null,
      "grid_auto_rows": null,
      "grid_column": null,
      "grid_gap": null,
      "grid_row": null,
      "grid_template_areas": null,
      "grid_template_columns": null,
      "grid_template_rows": null,
      "height": null,
      "justify_content": null,
      "justify_items": null,
      "left": null,
      "margin": null,
      "max_height": null,
      "max_width": null,
      "min_height": null,
      "min_width": null,
      "object_fit": null,
      "object_position": null,
      "order": null,
      "overflow": null,
      "overflow_x": null,
      "overflow_y": null,
      "padding": null,
      "right": null,
      "top": null,
      "visibility": null,
      "width": null
     }
    },
    "0ff58c77dfd547048012a4ff29ce67a1": {
     "model_module": "@jupyter-widgets/controls",
     "model_module_version": "1.5.0",
     "model_name": "HTMLModel",
     "state": {
      "_dom_classes": [],
      "_model_module": "@jupyter-widgets/controls",
      "_model_module_version": "1.5.0",
      "_model_name": "HTMLModel",
      "_view_count": null,
      "_view_module": "@jupyter-widgets/controls",
      "_view_module_version": "1.5.0",
      "_view_name": "HTMLView",
      "description": "",
      "description_tooltip": null,
      "layout": "IPY_MODEL_acba2ca5f9dd482ea0d7b3ee4f2176b8",
      "placeholder": "​",
      "style": "IPY_MODEL_190c2069abaf4d93abd24b4e3cc8091d",
      "value": " 436M/436M [00:06&lt;00:00, 70.6MB/s]"
     }
    },
    "190c2069abaf4d93abd24b4e3cc8091d": {
     "model_module": "@jupyter-widgets/controls",
     "model_module_version": "1.5.0",
     "model_name": "DescriptionStyleModel",
     "state": {
      "_model_module": "@jupyter-widgets/controls",
      "_model_module_version": "1.5.0",
      "_model_name": "DescriptionStyleModel",
      "_view_count": null,
      "_view_module": "@jupyter-widgets/base",
      "_view_module_version": "1.2.0",
      "_view_name": "StyleView",
      "description_width": ""
     }
    },
    "19d04659f84a4b3f8a3c78d899fa2f09": {
     "model_module": "@jupyter-widgets/controls",
     "model_module_version": "1.5.0",
     "model_name": "FloatProgressModel",
     "state": {
      "_dom_classes": [],
      "_model_module": "@jupyter-widgets/controls",
      "_model_module_version": "1.5.0",
      "_model_name": "FloatProgressModel",
      "_view_count": null,
      "_view_module": "@jupyter-widgets/controls",
      "_view_module_version": "1.5.0",
      "_view_name": "ProgressView",
      "bar_style": "success",
      "description": "",
      "description_tooltip": null,
      "layout": "IPY_MODEL_ca4a8310967d4558a4de6455c7c4bc56",
      "max": 313,
      "min": 0,
      "orientation": "horizontal",
      "style": "IPY_MODEL_8e5617a3e9564057bc73b284708e9db4",
      "value": 313
     }
    },
    "1bf9f377c5c1424598f6d51a83d853e1": {
     "model_module": "@jupyter-widgets/controls",
     "model_module_version": "1.5.0",
     "model_name": "DescriptionStyleModel",
     "state": {
      "_model_module": "@jupyter-widgets/controls",
      "_model_module_version": "1.5.0",
      "_model_name": "DescriptionStyleModel",
      "_view_count": null,
      "_view_module": "@jupyter-widgets/base",
      "_view_module_version": "1.2.0",
      "_view_name": "StyleView",
      "description_width": ""
     }
    },
    "1f4b4572ac6343a3baa0847f6c4f2759": {
     "model_module": "@jupyter-widgets/base",
     "model_module_version": "1.2.0",
     "model_name": "LayoutModel",
     "state": {
      "_model_module": "@jupyter-widgets/base",
      "_model_module_version": "1.2.0",
      "_model_name": "LayoutModel",
      "_view_count": null,
      "_view_module": "@jupyter-widgets/base",
      "_view_module_version": "1.2.0",
      "_view_name": "LayoutView",
      "align_content": null,
      "align_items": null,
      "align_self": null,
      "border": null,
      "bottom": null,
      "display": null,
      "flex": null,
      "flex_flow": null,
      "grid_area": null,
      "grid_auto_columns": null,
      "grid_auto_flow": null,
      "grid_auto_rows": null,
      "grid_column": null,
      "grid_gap": null,
      "grid_row": null,
      "grid_template_areas": null,
      "grid_template_columns": null,
      "grid_template_rows": null,
      "height": null,
      "justify_content": null,
      "justify_items": null,
      "left": null,
      "margin": null,
      "max_height": null,
      "max_width": null,
      "min_height": null,
      "min_width": null,
      "object_fit": null,
      "object_position": null,
      "order": null,
      "overflow": null,
      "overflow_x": null,
      "overflow_y": null,
      "padding": null,
      "right": null,
      "top": null,
      "visibility": null,
      "width": null
     }
    },
    "2083ce877ef448d9bb64df70ea879983": {
     "model_module": "@jupyter-widgets/base",
     "model_module_version": "1.2.0",
     "model_name": "LayoutModel",
     "state": {
      "_model_module": "@jupyter-widgets/base",
      "_model_module_version": "1.2.0",
      "_model_name": "LayoutModel",
      "_view_count": null,
      "_view_module": "@jupyter-widgets/base",
      "_view_module_version": "1.2.0",
      "_view_name": "LayoutView",
      "align_content": null,
      "align_items": null,
      "align_self": null,
      "border": null,
      "bottom": null,
      "display": null,
      "flex": null,
      "flex_flow": null,
      "grid_area": null,
      "grid_auto_columns": null,
      "grid_auto_flow": null,
      "grid_auto_rows": null,
      "grid_column": null,
      "grid_gap": null,
      "grid_row": null,
      "grid_template_areas": null,
      "grid_template_columns": null,
      "grid_template_rows": null,
      "height": null,
      "justify_content": null,
      "justify_items": null,
      "left": null,
      "margin": null,
      "max_height": null,
      "max_width": null,
      "min_height": null,
      "min_width": null,
      "object_fit": null,
      "object_position": null,
      "order": null,
      "overflow": null,
      "overflow_x": null,
      "overflow_y": null,
      "padding": null,
      "right": null,
      "top": null,
      "visibility": null,
      "width": null
     }
    },
    "28cadbf240094f89811a97517068791a": {
     "model_module": "@jupyter-widgets/controls",
     "model_module_version": "1.5.0",
     "model_name": "FloatProgressModel",
     "state": {
      "_dom_classes": [],
      "_model_module": "@jupyter-widgets/controls",
      "_model_module_version": "1.5.0",
      "_model_name": "FloatProgressModel",
      "_view_count": null,
      "_view_module": "@jupyter-widgets/controls",
      "_view_module_version": "1.5.0",
      "_view_name": "ProgressView",
      "bar_style": "success",
      "description": "",
      "description_tooltip": null,
      "layout": "IPY_MODEL_896017c72f084ae094b743f499dc61d7",
      "max": 213450,
      "min": 0,
      "orientation": "horizontal",
      "style": "IPY_MODEL_8f9c93a9f5b94f899f4f19036d239baf",
      "value": 213450
     }
    },
    "4249d50082cc4fdf80b214295274f6e9": {
     "model_module": "@jupyter-widgets/controls",
     "model_module_version": "1.5.0",
     "model_name": "DescriptionStyleModel",
     "state": {
      "_model_module": "@jupyter-widgets/controls",
      "_model_module_version": "1.5.0",
      "_model_name": "DescriptionStyleModel",
      "_view_count": null,
      "_view_module": "@jupyter-widgets/base",
      "_view_module_version": "1.2.0",
      "_view_name": "StyleView",
      "description_width": ""
     }
    },
    "4717328c4ece49f895ef8747e24e83ff": {
     "model_module": "@jupyter-widgets/controls",
     "model_module_version": "1.5.0",
     "model_name": "HTMLModel",
     "state": {
      "_dom_classes": [],
      "_model_module": "@jupyter-widgets/controls",
      "_model_module_version": "1.5.0",
      "_model_name": "HTMLModel",
      "_view_count": null,
      "_view_module": "@jupyter-widgets/controls",
      "_view_module_version": "1.5.0",
      "_view_name": "HTMLView",
      "description": "",
      "description_tooltip": null,
      "layout": "IPY_MODEL_2083ce877ef448d9bb64df70ea879983",
      "placeholder": "​",
      "style": "IPY_MODEL_1bf9f377c5c1424598f6d51a83d853e1",
      "value": "config.json: 100%"
     }
    },
    "52d0986e6b894672943533414cead729": {
     "model_module": "@jupyter-widgets/controls",
     "model_module_version": "1.5.0",
     "model_name": "HBoxModel",
     "state": {
      "_dom_classes": [],
      "_model_module": "@jupyter-widgets/controls",
      "_model_module_version": "1.5.0",
      "_model_name": "HBoxModel",
      "_view_count": null,
      "_view_module": "@jupyter-widgets/controls",
      "_view_module_version": "1.5.0",
      "_view_name": "HBoxView",
      "box_style": "",
      "children": [
       "IPY_MODEL_4717328c4ece49f895ef8747e24e83ff",
       "IPY_MODEL_19d04659f84a4b3f8a3c78d899fa2f09",
       "IPY_MODEL_9dd7ceec971b4f13801b2647b30519d7"
      ],
      "layout": "IPY_MODEL_8767ec04a1e4442592591ffd41775d4b"
     }
    },
    "7a424a78c36244b184a0c6f2759e364d": {
     "model_module": "@jupyter-widgets/controls",
     "model_module_version": "1.5.0",
     "model_name": "FloatProgressModel",
     "state": {
      "_dom_classes": [],
      "_model_module": "@jupyter-widgets/controls",
      "_model_module_version": "1.5.0",
      "_model_name": "FloatProgressModel",
      "_view_count": null,
      "_view_module": "@jupyter-widgets/controls",
      "_view_module_version": "1.5.0",
      "_view_name": "ProgressView",
      "bar_style": "success",
      "description": "",
      "description_tooltip": null,
      "layout": "IPY_MODEL_87f13b459a0f460c99b771b6b39b3ca4",
      "max": 435780550,
      "min": 0,
      "orientation": "horizontal",
      "style": "IPY_MODEL_e17b62ad5e584db2ad624cc4e6a76d9d",
      "value": 435780550
     }
    },
    "8767ec04a1e4442592591ffd41775d4b": {
     "model_module": "@jupyter-widgets/base",
     "model_module_version": "1.2.0",
     "model_name": "LayoutModel",
     "state": {
      "_model_module": "@jupyter-widgets/base",
      "_model_module_version": "1.2.0",
      "_model_name": "LayoutModel",
      "_view_count": null,
      "_view_module": "@jupyter-widgets/base",
      "_view_module_version": "1.2.0",
      "_view_name": "LayoutView",
      "align_content": null,
      "align_items": null,
      "align_self": null,
      "border": null,
      "bottom": null,
      "display": null,
      "flex": null,
      "flex_flow": null,
      "grid_area": null,
      "grid_auto_columns": null,
      "grid_auto_flow": null,
      "grid_auto_rows": null,
      "grid_column": null,
      "grid_gap": null,
      "grid_row": null,
      "grid_template_areas": null,
      "grid_template_columns": null,
      "grid_template_rows": null,
      "height": null,
      "justify_content": null,
      "justify_items": null,
      "left": null,
      "margin": null,
      "max_height": null,
      "max_width": null,
      "min_height": null,
      "min_width": null,
      "object_fit": null,
      "object_position": null,
      "order": null,
      "overflow": null,
      "overflow_x": null,
      "overflow_y": null,
      "padding": null,
      "right": null,
      "top": null,
      "visibility": null,
      "width": null
     }
    },
    "87f13b459a0f460c99b771b6b39b3ca4": {
     "model_module": "@jupyter-widgets/base",
     "model_module_version": "1.2.0",
     "model_name": "LayoutModel",
     "state": {
      "_model_module": "@jupyter-widgets/base",
      "_model_module_version": "1.2.0",
      "_model_name": "LayoutModel",
      "_view_count": null,
      "_view_module": "@jupyter-widgets/base",
      "_view_module_version": "1.2.0",
      "_view_name": "LayoutView",
      "align_content": null,
      "align_items": null,
      "align_self": null,
      "border": null,
      "bottom": null,
      "display": null,
      "flex": null,
      "flex_flow": null,
      "grid_area": null,
      "grid_auto_columns": null,
      "grid_auto_flow": null,
      "grid_auto_rows": null,
      "grid_column": null,
      "grid_gap": null,
      "grid_row": null,
      "grid_template_areas": null,
      "grid_template_columns": null,
      "grid_template_rows": null,
      "height": null,
      "justify_content": null,
      "justify_items": null,
      "left": null,
      "margin": null,
      "max_height": null,
      "max_width": null,
      "min_height": null,
      "min_width": null,
      "object_fit": null,
      "object_position": null,
      "order": null,
      "overflow": null,
      "overflow_x": null,
      "overflow_y": null,
      "padding": null,
      "right": null,
      "top": null,
      "visibility": null,
      "width": null
     }
    },
    "896017c72f084ae094b743f499dc61d7": {
     "model_module": "@jupyter-widgets/base",
     "model_module_version": "1.2.0",
     "model_name": "LayoutModel",
     "state": {
      "_model_module": "@jupyter-widgets/base",
      "_model_module_version": "1.2.0",
      "_model_name": "LayoutModel",
      "_view_count": null,
      "_view_module": "@jupyter-widgets/base",
      "_view_module_version": "1.2.0",
      "_view_name": "LayoutView",
      "align_content": null,
      "align_items": null,
      "align_self": null,
      "border": null,
      "bottom": null,
      "display": null,
      "flex": null,
      "flex_flow": null,
      "grid_area": null,
      "grid_auto_columns": null,
      "grid_auto_flow": null,
      "grid_auto_rows": null,
      "grid_column": null,
      "grid_gap": null,
      "grid_row": null,
      "grid_template_areas": null,
      "grid_template_columns": null,
      "grid_template_rows": null,
      "height": null,
      "justify_content": null,
      "justify_items": null,
      "left": null,
      "margin": null,
      "max_height": null,
      "max_width": null,
      "min_height": null,
      "min_width": null,
      "object_fit": null,
      "object_position": null,
      "order": null,
      "overflow": null,
      "overflow_x": null,
      "overflow_y": null,
      "padding": null,
      "right": null,
      "top": null,
      "visibility": null,
      "width": null
     }
    },
    "8e5617a3e9564057bc73b284708e9db4": {
     "model_module": "@jupyter-widgets/controls",
     "model_module_version": "1.5.0",
     "model_name": "ProgressStyleModel",
     "state": {
      "_model_module": "@jupyter-widgets/controls",
      "_model_module_version": "1.5.0",
      "_model_name": "ProgressStyleModel",
      "_view_count": null,
      "_view_module": "@jupyter-widgets/base",
      "_view_module_version": "1.2.0",
      "_view_name": "StyleView",
      "bar_color": null,
      "description_width": ""
     }
    },
    "8f9c93a9f5b94f899f4f19036d239baf": {
     "model_module": "@jupyter-widgets/controls",
     "model_module_version": "1.5.0",
     "model_name": "ProgressStyleModel",
     "state": {
      "_model_module": "@jupyter-widgets/controls",
      "_model_module_version": "1.5.0",
      "_model_name": "ProgressStyleModel",
      "_view_count": null,
      "_view_module": "@jupyter-widgets/base",
      "_view_module_version": "1.2.0",
      "_view_name": "StyleView",
      "bar_color": null,
      "description_width": ""
     }
    },
    "9247dc6fc8e3441fa0ce4a7a6185ec88": {
     "model_module": "@jupyter-widgets/controls",
     "model_module_version": "1.5.0",
     "model_name": "HTMLModel",
     "state": {
      "_dom_classes": [],
      "_model_module": "@jupyter-widgets/controls",
      "_model_module_version": "1.5.0",
      "_model_name": "HTMLModel",
      "_view_count": null,
      "_view_module": "@jupyter-widgets/controls",
      "_view_module_version": "1.5.0",
      "_view_name": "HTMLView",
      "description": "",
      "description_tooltip": null,
      "layout": "IPY_MODEL_1f4b4572ac6343a3baa0847f6c4f2759",
      "placeholder": "​",
      "style": "IPY_MODEL_01b4b28dcc084e689fc793b52bdca840",
      "value": "pytorch_model.bin: 100%"
     }
    },
    "9dd7ceec971b4f13801b2647b30519d7": {
     "model_module": "@jupyter-widgets/controls",
     "model_module_version": "1.5.0",
     "model_name": "HTMLModel",
     "state": {
      "_dom_classes": [],
      "_model_module": "@jupyter-widgets/controls",
      "_model_module_version": "1.5.0",
      "_model_name": "HTMLModel",
      "_view_count": null,
      "_view_module": "@jupyter-widgets/controls",
      "_view_module_version": "1.5.0",
      "_view_name": "HTMLView",
      "description": "",
      "description_tooltip": null,
      "layout": "IPY_MODEL_d5117565f29d455f8a24dd4efba3331b",
      "placeholder": "​",
      "style": "IPY_MODEL_4249d50082cc4fdf80b214295274f6e9",
      "value": " 313/313 [00:00&lt;00:00, 3.17kB/s]"
     }
    },
    "acba2ca5f9dd482ea0d7b3ee4f2176b8": {
     "model_module": "@jupyter-widgets/base",
     "model_module_version": "1.2.0",
     "model_name": "LayoutModel",
     "state": {
      "_model_module": "@jupyter-widgets/base",
      "_model_module_version": "1.2.0",
      "_model_name": "LayoutModel",
      "_view_count": null,
      "_view_module": "@jupyter-widgets/base",
      "_view_module_version": "1.2.0",
      "_view_name": "LayoutView",
      "align_content": null,
      "align_items": null,
      "align_self": null,
      "border": null,
      "bottom": null,
      "display": null,
      "flex": null,
      "flex_flow": null,
      "grid_area": null,
      "grid_auto_columns": null,
      "grid_auto_flow": null,
      "grid_auto_rows": null,
      "grid_column": null,
      "grid_gap": null,
      "grid_row": null,
      "grid_template_areas": null,
      "grid_template_columns": null,
      "grid_template_rows": null,
      "height": null,
      "justify_content": null,
      "justify_items": null,
      "left": null,
      "margin": null,
      "max_height": null,
      "max_width": null,
      "min_height": null,
      "min_width": null,
      "object_fit": null,
      "object_position": null,
      "order": null,
      "overflow": null,
      "overflow_x": null,
      "overflow_y": null,
      "padding": null,
      "right": null,
      "top": null,
      "visibility": null,
      "width": null
     }
    },
    "b7cd2553f24e4aae806ce045580f5bc3": {
     "model_module": "@jupyter-widgets/controls",
     "model_module_version": "1.5.0",
     "model_name": "HBoxModel",
     "state": {
      "_dom_classes": [],
      "_model_module": "@jupyter-widgets/controls",
      "_model_module_version": "1.5.0",
      "_model_name": "HBoxModel",
      "_view_count": null,
      "_view_module": "@jupyter-widgets/controls",
      "_view_module_version": "1.5.0",
      "_view_name": "HBoxView",
      "box_style": "",
      "children": [
       "IPY_MODEL_9247dc6fc8e3441fa0ce4a7a6185ec88",
       "IPY_MODEL_7a424a78c36244b184a0c6f2759e364d",
       "IPY_MODEL_0ff58c77dfd547048012a4ff29ce67a1"
      ],
      "layout": "IPY_MODEL_be7f075ef8654a3388766eb577ac7152"
     }
    },
    "bd9badd86b63454686ef84d238b5d12a": {
     "model_module": "@jupyter-widgets/controls",
     "model_module_version": "1.5.0",
     "model_name": "HTMLModel",
     "state": {
      "_dom_classes": [],
      "_model_module": "@jupyter-widgets/controls",
      "_model_module_version": "1.5.0",
      "_model_name": "HTMLModel",
      "_view_count": null,
      "_view_module": "@jupyter-widgets/controls",
      "_view_module_version": "1.5.0",
      "_view_name": "HTMLView",
      "description": "",
      "description_tooltip": null,
      "layout": "IPY_MODEL_ea836aab40d746ccb7e01d25339831f3",
      "placeholder": "​",
      "style": "IPY_MODEL_048a3411acbe421fb6ae2a5cc61346f9",
      "value": " 213k/213k [00:00&lt;00:00, 2.18MB/s]"
     }
    },
    "be7f075ef8654a3388766eb577ac7152": {
     "model_module": "@jupyter-widgets/base",
     "model_module_version": "1.2.0",
     "model_name": "LayoutModel",
     "state": {
      "_model_module": "@jupyter-widgets/base",
      "_model_module_version": "1.2.0",
      "_model_name": "LayoutModel",
      "_view_count": null,
      "_view_module": "@jupyter-widgets/base",
      "_view_module_version": "1.2.0",
      "_view_name": "LayoutView",
      "align_content": null,
      "align_items": null,
      "align_self": null,
      "border": null,
      "bottom": null,
      "display": null,
      "flex": null,
      "flex_flow": null,
      "grid_area": null,
      "grid_auto_columns": null,
      "grid_auto_flow": null,
      "grid_auto_rows": null,
      "grid_column": null,
      "grid_gap": null,
      "grid_row": null,
      "grid_template_areas": null,
      "grid_template_columns": null,
      "grid_template_rows": null,
      "height": null,
      "justify_content": null,
      "justify_items": null,
      "left": null,
      "margin": null,
      "max_height": null,
      "max_width": null,
      "min_height": null,
      "min_width": null,
      "object_fit": null,
      "object_position": null,
      "order": null,
      "overflow": null,
      "overflow_x": null,
      "overflow_y": null,
      "padding": null,
      "right": null,
      "top": null,
      "visibility": null,
      "width": null
     }
    },
    "c338d649a11a4cbab1053a29961fa817": {
     "model_module": "@jupyter-widgets/controls",
     "model_module_version": "1.5.0",
     "model_name": "DescriptionStyleModel",
     "state": {
      "_model_module": "@jupyter-widgets/controls",
      "_model_module_version": "1.5.0",
      "_model_name": "DescriptionStyleModel",
      "_view_count": null,
      "_view_module": "@jupyter-widgets/base",
      "_view_module_version": "1.2.0",
      "_view_name": "StyleView",
      "description_width": ""
     }
    },
    "c627ece3af834e598b9e0cb48f656c93": {
     "model_module": "@jupyter-widgets/controls",
     "model_module_version": "1.5.0",
     "model_name": "HTMLModel",
     "state": {
      "_dom_classes": [],
      "_model_module": "@jupyter-widgets/controls",
      "_model_module_version": "1.5.0",
      "_model_name": "HTMLModel",
      "_view_count": null,
      "_view_module": "@jupyter-widgets/controls",
      "_view_module_version": "1.5.0",
      "_view_name": "HTMLView",
      "description": "",
      "description_tooltip": null,
      "layout": "IPY_MODEL_06273e4e5306488d9f7d13a39e8ce1e4",
      "placeholder": "​",
      "style": "IPY_MODEL_c338d649a11a4cbab1053a29961fa817",
      "value": "vocab.txt: 100%"
     }
    },
    "c75c4e742c394c8888e819b8d1cb3d63": {
     "model_module": "@jupyter-widgets/controls",
     "model_module_version": "1.5.0",
     "model_name": "HBoxModel",
     "state": {
      "_dom_classes": [],
      "_model_module": "@jupyter-widgets/controls",
      "_model_module_version": "1.5.0",
      "_model_name": "HBoxModel",
      "_view_count": null,
      "_view_module": "@jupyter-widgets/controls",
      "_view_module_version": "1.5.0",
      "_view_name": "HBoxView",
      "box_style": "",
      "children": [
       "IPY_MODEL_c627ece3af834e598b9e0cb48f656c93",
       "IPY_MODEL_28cadbf240094f89811a97517068791a",
       "IPY_MODEL_bd9badd86b63454686ef84d238b5d12a"
      ],
      "layout": "IPY_MODEL_0e48990f08b44a80b4d011ff65970446"
     }
    },
    "ca4a8310967d4558a4de6455c7c4bc56": {
     "model_module": "@jupyter-widgets/base",
     "model_module_version": "1.2.0",
     "model_name": "LayoutModel",
     "state": {
      "_model_module": "@jupyter-widgets/base",
      "_model_module_version": "1.2.0",
      "_model_name": "LayoutModel",
      "_view_count": null,
      "_view_module": "@jupyter-widgets/base",
      "_view_module_version": "1.2.0",
      "_view_name": "LayoutView",
      "align_content": null,
      "align_items": null,
      "align_self": null,
      "border": null,
      "bottom": null,
      "display": null,
      "flex": null,
      "flex_flow": null,
      "grid_area": null,
      "grid_auto_columns": null,
      "grid_auto_flow": null,
      "grid_auto_rows": null,
      "grid_column": null,
      "grid_gap": null,
      "grid_row": null,
      "grid_template_areas": null,
      "grid_template_columns": null,
      "grid_template_rows": null,
      "height": null,
      "justify_content": null,
      "justify_items": null,
      "left": null,
      "margin": null,
      "max_height": null,
      "max_width": null,
      "min_height": null,
      "min_width": null,
      "object_fit": null,
      "object_position": null,
      "order": null,
      "overflow": null,
      "overflow_x": null,
      "overflow_y": null,
      "padding": null,
      "right": null,
      "top": null,
      "visibility": null,
      "width": null
     }
    },
    "d5117565f29d455f8a24dd4efba3331b": {
     "model_module": "@jupyter-widgets/base",
     "model_module_version": "1.2.0",
     "model_name": "LayoutModel",
     "state": {
      "_model_module": "@jupyter-widgets/base",
      "_model_module_version": "1.2.0",
      "_model_name": "LayoutModel",
      "_view_count": null,
      "_view_module": "@jupyter-widgets/base",
      "_view_module_version": "1.2.0",
      "_view_name": "LayoutView",
      "align_content": null,
      "align_items": null,
      "align_self": null,
      "border": null,
      "bottom": null,
      "display": null,
      "flex": null,
      "flex_flow": null,
      "grid_area": null,
      "grid_auto_columns": null,
      "grid_auto_flow": null,
      "grid_auto_rows": null,
      "grid_column": null,
      "grid_gap": null,
      "grid_row": null,
      "grid_template_areas": null,
      "grid_template_columns": null,
      "grid_template_rows": null,
      "height": null,
      "justify_content": null,
      "justify_items": null,
      "left": null,
      "margin": null,
      "max_height": null,
      "max_width": null,
      "min_height": null,
      "min_width": null,
      "object_fit": null,
      "object_position": null,
      "order": null,
      "overflow": null,
      "overflow_x": null,
      "overflow_y": null,
      "padding": null,
      "right": null,
      "top": null,
      "visibility": null,
      "width": null
     }
    },
    "e17b62ad5e584db2ad624cc4e6a76d9d": {
     "model_module": "@jupyter-widgets/controls",
     "model_module_version": "1.5.0",
     "model_name": "ProgressStyleModel",
     "state": {
      "_model_module": "@jupyter-widgets/controls",
      "_model_module_version": "1.5.0",
      "_model_name": "ProgressStyleModel",
      "_view_count": null,
      "_view_module": "@jupyter-widgets/base",
      "_view_module_version": "1.2.0",
      "_view_name": "StyleView",
      "bar_color": null,
      "description_width": ""
     }
    },
    "ea836aab40d746ccb7e01d25339831f3": {
     "model_module": "@jupyter-widgets/base",
     "model_module_version": "1.2.0",
     "model_name": "LayoutModel",
     "state": {
      "_model_module": "@jupyter-widgets/base",
      "_model_module_version": "1.2.0",
      "_model_name": "LayoutModel",
      "_view_count": null,
      "_view_module": "@jupyter-widgets/base",
      "_view_module_version": "1.2.0",
      "_view_name": "LayoutView",
      "align_content": null,
      "align_items": null,
      "align_self": null,
      "border": null,
      "bottom": null,
      "display": null,
      "flex": null,
      "flex_flow": null,
      "grid_area": null,
      "grid_auto_columns": null,
      "grid_auto_flow": null,
      "grid_auto_rows": null,
      "grid_column": null,
      "grid_gap": null,
      "grid_row": null,
      "grid_template_areas": null,
      "grid_template_columns": null,
      "grid_template_rows": null,
      "height": null,
      "justify_content": null,
      "justify_items": null,
      "left": null,
      "margin": null,
      "max_height": null,
      "max_width": null,
      "min_height": null,
      "min_width": null,
      "object_fit": null,
      "object_position": null,
      "order": null,
      "overflow": null,
      "overflow_x": null,
      "overflow_y": null,
      "padding": null,
      "right": null,
      "top": null,
      "visibility": null,
      "width": null
     }
    }
   }
  }
 },
 "nbformat": 4,
 "nbformat_minor": 4
}
