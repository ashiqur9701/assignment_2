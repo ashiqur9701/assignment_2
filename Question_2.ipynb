{
 "cells": [
  {
   "cell_type": "markdown",
   "id": "0da9dd99-2361-4ee8-aa57-6a7229dbf6a4",
   "metadata": {},
   "source": [
    "## Generate the number"
   ]
  },
  {
   "cell_type": "code",
   "execution_count": 1,
   "id": "e2986161-e701-4dcb-bf8c-d9782d7a7852",
   "metadata": {},
   "outputs": [
    {
     "name": "stdout",
     "output_type": "stream",
     "text": [
      "72\n"
     ]
    }
   ],
   "source": [
    "import time\n",
    "current_time = int(time.time())\n",
    "generated_number = (current_time % 100) + 50\n",
    "if generated_number % 2 == 0:\n",
    "    generated_number += 10\n",
    "print(generated_number)"
   ]
  },
  {
   "cell_type": "markdown",
   "id": "85fc533a-576a-4044-918a-752be0323968",
   "metadata": {},
   "source": [
    "## Load the image and manipulate the pixels"
   ]
  },
  {
   "cell_type": "code",
   "execution_count": 2,
   "id": "28e7fe56-48fb-4e1c-808e-8f9217f6c981",
   "metadata": {},
   "outputs": [],
   "source": [
    "from PIL import Image\n",
    "\n",
    "# Load the image\n",
    "image = Image.open(\"Chapter1.jpg\")\n",
    "\n",
    "# Get image data (pixels)\n",
    "pixels = list(image.getdata())\n",
    "\n",
    "# Apply the transformation (add the generated number n to each pixel)\n",
    "n = generated_number  \n",
    "new_pixels = [(min(255, r + n), min(255, g + n), min(255, b + n)) for r, g, b in pixels]\n",
    "\n",
    "# Create a new image with the modified pixels\n",
    "new_image = Image.new(image.mode, image.size)\n",
    "new_image.putdata(new_pixels)\n",
    "\n",
    "# Save the new image\n",
    "new_image.save(\"chapter1out.png\")"
   ]
  },
  {
   "cell_type": "markdown",
   "id": "c62f782d-67f2-4d5a-93f8-3271b7ff3421",
   "metadata": {},
   "source": [
    "## Sum the red values"
   ]
  },
  {
   "cell_type": "code",
   "execution_count": 3,
   "id": "9bf5c8e5-1e14-47f7-85ba-4e5ee03f5b35",
   "metadata": {},
   "outputs": [
    {
     "name": "stdout",
     "output_type": "stream",
     "text": [
      "Total sum of red values: 324140167\n"
     ]
    }
   ],
   "source": [
    "# Sum the red values from the new image\n",
    "total_red = sum(r for r, g, b in new_pixels)\n",
    "\n",
    "# Print the total sum of red values\n",
    "print(\"Total sum of red values:\", total_red)"
   ]
  },
  {
   "cell_type": "markdown",
   "id": "cc510268-28f1-4e6e-8fdf-b517a50d4297",
   "metadata": {},
   "source": [
    "## Chapter 2: The Chamber of Strings  "
   ]
  },
  {
   "cell_type": "code",
   "execution_count": 4,
   "id": "f36efcb9-82a4-4056-9db8-aeaf91caf164",
   "metadata": {},
   "outputs": [
    {
     "name": "stdout",
     "output_type": "stream",
     "text": [
      "Number string: 561984235270145785310\n",
      "Letter string: aAwwsktraYmnssfsqD\n",
      "Even numbers (ASCII): [54, 56, 52, 50, 50, 48, 52, 56, 48]\n",
      "Uppercase letters (ASCII): [65, 89, 68]\n"
     ]
    }
   ],
   "source": [
    "def separate_numbers_and_letters(s):\n",
    "    number_str = \"\"\n",
    "    letter_str = \"\"\n",
    "\n",
    "    # Separate numbers and letters\n",
    "    for char in s:\n",
    "        if char.isdigit():\n",
    "            number_str += char\n",
    "        elif char.isalpha():\n",
    "            letter_str += char\n",
    "\n",
    "    return number_str, letter_str\n",
    "\n",
    "def convert_even_numbers_to_ascii(number_str):\n",
    "    even_numbers_ascii = [ord(num) for num in number_str if int(num) % 2 == 0]\n",
    "    return even_numbers_ascii\n",
    "\n",
    "def convert_uppercase_to_ascii(letter_str):\n",
    "    uppercase_ascii = [ord(letter) for letter in letter_str if letter.isupper()]\n",
    "    return uppercase_ascii\n",
    "\n",
    "# Test string\n",
    "s = \"56aAww1984sktr235270aYmn145ss785fsq31D0\"\n",
    "\n",
    "# Separate numbers and letters\n",
    "number_str, letter_str = separate_numbers_and_letters(s)\n",
    "print(\"Number string:\", number_str)\n",
    "print(\"Letter string:\", letter_str)\n",
    "\n",
    "# Convert even numbers to ASCII\n",
    "even_numbers_ascii = convert_even_numbers_to_ascii(number_str)\n",
    "print(\"Even numbers (ASCII):\", even_numbers_ascii)\n",
    "\n",
    "# Convert uppercase letters to ASCII\n",
    "uppercase_ascii = convert_uppercase_to_ascii(letter_str)\n",
    "print(\"Uppercase letters (ASCII):\", uppercase_ascii)"
   ]
  },
  {
   "cell_type": "markdown",
   "id": "eb88ac67-8faa-48e8-aad9-0650148b355f",
   "metadata": {},
   "source": [
    "## Deciphering the Cryptogram"
   ]
  },
  {
   "cell_type": "code",
   "execution_count": 5,
   "id": "397f7104-f6e6-4034-a265-0ab52475fd72",
   "metadata": {},
   "outputs": [
    {
     "name": "stdout",
     "output_type": "stream",
     "text": [
      "Shift key 1:\n",
      "UY EQXRUET UYBMFUQZF MZP M XUFFXQ UZEQOGDQ U YMWQ YUEFMWQE U MY AGF AR OAZFDAX\n",
      "MZPMF FUYQE TMDP FA TMZPXQ NGF UR KAG OMZF TMZPXQ YQ MF YK IADEF FTQZ KAG EGDQ ME TQXXPAZF PQEQDHQ YQ MF YK NQEF YMDUXKZ YAZDAQ\n",
      "\n",
      "Shift key 2:\n",
      "TX DPWQTDS TXALETPYE LYO L WTEEWP TYDPNFCP T XLVP XTDELVPD T LX ZFE ZQ NZYECZW\n",
      "LYOLE ETXPD SLCO EZ SLYOWP MFE TQ JZF NLYE SLYOWP XP LE XJ HZCDE ESPY JZF DFCP LD SPWWOZYE OPDPCGP XP LE XJ MPDE XLCTWJY XZYCZP\n",
      "\n",
      "Shift key 3:\n",
      "SW COVPSCR SWZKDSOXD KXN K VSDDVO SXCOMEBO S WKUO WSCDKUOC S KW YED YP MYXDBYV\n",
      "KXNKD DSWOC RKBN DY RKXNVO LED SP IYE MKXD RKXNVO WO KD WI GYBCD DROX IYE CEBO KC ROVVNYXD NOCOBFO WO KD WI LOCD WKBSVIX WYXBYO\n",
      "\n",
      "Shift key 4:\n",
      "RV BNUORBQ RVYJCRNWC JWM J URCCUN RWBNLDAN R VJTN VRBCJTNB R JV XDC XO LXWCAXU\n",
      "JWMJC CRVNB QJAM CX QJWMUN KDC RO HXD LJWC QJWMUN VN JC VH FXABC CQNW HXD BDAN JB QNUUMXWC MNBNAEN VN JC VH KNBC VJARUHW VXWAXN\n",
      "\n",
      "Shift key 5:\n",
      "QU AMTNQAP QUXIBQMVB IVL I TQBBTM QVAMKCZM Q UISM UQABISMA Q IU WCB WN KWVBZWT\n",
      "IVLIB BQUMA PIZL BW PIVLTM JCB QN GWC KIVB PIVLTM UM IB UG EWZAB BPMV GWC ACZM IA PMTTLWVB LMAMZDM UM IB UG JMAB UIZQTGV UWVZWM\n",
      "\n",
      "Shift key 6:\n",
      "PT ZLSMPZO PTWHAPLUA HUK H SPAASL PUZLJBYL P THRL TPZAHRLZ P HT VBA VM JVUAYVS\n",
      "HUKHA APTLZ OHYK AV OHUKSL IBA PM FVB JHUA OHUKSL TL HA TF DVYZA AOLU FVB ZBYL HZ OLSSKVUA KLZLYCL TL HA TF ILZA THYPSFU TVUYVL\n",
      "\n",
      "Shift key 7:\n",
      "OS YKRLOYN OSVGZOKTZ GTJ G ROZZRK OTYKIAXK O SGQK SOYZGQKY O GS UAZ UL IUTZXUR\n",
      "GTJGZ ZOSKY NGXJ ZU NGTJRK HAZ OL EUA IGTZ NGTJRK SK GZ SE CUXYZ ZNKT EUA YAXK GY NKRRJUTZ JKYKXBK SK GZ SE HKYZ SGXORET SUTXUK\n",
      "\n",
      "Shift key 8:\n",
      "NR XJQKNXM NRUFYNJSY FSI F QNYYQJ NSXJHZWJ N RFPJ RNXYFPJX N FR TZY TK HTSYWTQ\n",
      "FSIFY YNRJX MFWI YT MFSIQJ GZY NK DTZ HFSY MFSIQJ RJ FY RD BTWXY YMJS DTZ XZWJ FX MJQQITSY IJXJWAJ RJ FY RD GJXY RFWNQDS RTSWTJ\n",
      "\n",
      "Shift key 9:\n",
      "MQ WIPJMWL MQTEXMIRX ERH E PMXXPI MRWIGYVI M QEOI QMWXEOIW M EQ SYX SJ GSRXVSP\n",
      "ERHEX XMQIW LEVH XS LERHPI FYX MJ CSY GERX LERHPI QI EX QC ASVWX XLIR CSY WYVI EW LIPPHSRX HIWIVZI QI EX QC FIWX QEVMPCR QSRVSI\n",
      "\n",
      "Shift key 10:\n",
      "LP VHOILVK LPSDWLHQW DQG D OLWWOH LQVHFXUH L PDNH PLVWDNHV L DP RXW RI FRQWURO\n",
      "DQGDW WLPHV KDUG WR KDQGOH EXW LI BRX FDQW KDQGOH PH DW PB ZRUVW WKHQ BRX VXUH DV KHOOGRQW GHVHUYH PH DW PB EHVW PDULOBQ PRQURH\n",
      "\n",
      "Shift key 11:\n",
      "KO UGNHKUJ KORCVKGPV CPF C NKVVNG KPUGEWTG K OCMG OKUVCMGU K CO QWV QH EQPVTQN\n",
      "CPFCV VKOGU JCTF VQ JCPFNG DWV KH AQW ECPV JCPFNG OG CV OA YQTUV VJGP AQW UWTG CU JGNNFQPV FGUGTXG OG CV OA DGUV OCTKNAP OQPTQG\n",
      "\n",
      "Shift key 12:\n",
      "JN TFMGJTI JNQBUJFOU BOE B MJUUMF JOTFDVSF J NBLF NJTUBLFT J BN PVU PG DPOUSPM\n",
      "BOEBU UJNFT IBSE UP IBOEMF CVU JG ZPV DBOU IBOEMF NF BU NZ XPSTU UIFO ZPV TVSF BT IFMMEPOU EFTFSWF NF BU NZ CFTU NBSJMZO NPOSPF\n",
      "\n",
      "Shift key 13:\n",
      "IM SELFISH IMPATIENT AND A LITTLE INSECURE I MAKE MISTAKES I AM OUT OF CONTROL\n",
      "ANDAT TIMES HARD TO HANDLE BUT IF YOU CANT HANDLE ME AT MY WORST THEN YOU SURE AS HELLDONT DESERVE ME AT MY BEST MARILYN MONROE\n",
      "\n",
      "Shift key 14:\n",
      "HL RDKEHRG HLOZSHDMS ZMC Z KHSSKD HMRDBTQD H LZJD LHRSZJDR H ZL NTS NE BNMSQNK\n",
      "ZMCZS SHLDR GZQC SN GZMCKD ATS HE XNT BZMS GZMCKD LD ZS LX VNQRS SGDM XNT RTQD ZR GDKKCNMS CDRDQUD LD ZS LX ADRS LZQHKXM LNMQND\n",
      "\n",
      "Shift key 15:\n",
      "GK QCJDGQF GKNYRGCLR YLB Y JGRRJC GLQCASPC G KYIC KGQRYICQ G YK MSR MD AMLRPMJ\n",
      "YLBYR RGKCQ FYPB RM FYLBJC ZSR GD WMS AYLR FYLBJC KC YR KW UMPQR RFCL WMS QSPC YQ FCJJBMLR BCQCPTC KC YR KW ZCQR KYPGJWL KMLPMC\n",
      "\n",
      "Shift key 16:\n",
      "FJ PBICFPE FJMXQFBKQ XKA X IFQQIB FKPBZROB F JXHB JFPQXHBP F XJ LRQ LC ZLKQOLI\n",
      "XKAXQ QFJBP EXOA QL EXKAIB YRQ FC VLR ZXKQ EXKAIB JB XQ JV TLOPQ QEBK VLR PROB XP EBIIALKQ ABPBOSB JB XQ JV YBPQ JXOFIVK JLKOLB\n",
      "\n",
      "Shift key 17:\n",
      "EI OAHBEOD EILWPEAJP WJZ W HEPPHA EJOAYQNA E IWGA IEOPWGAO E WI KQP KB YKJPNKH\n",
      "WJZWP PEIAO DWNZ PK DWJZHA XQP EB UKQ YWJP DWJZHA IA WP IU SKNOP PDAJ UKQ OQNA WO DAHHZKJP ZAOANRA IA WP IU XAOP IWNEHUJ IKJNKA\n",
      "\n",
      "Shift key 18:\n",
      "DH NZGADNC DHKVODZIO VIY V GDOOGZ DINZXPMZ D HVFZ HDNOVFZN D VH JPO JA XJIOMJG\n",
      "VIYVO ODHZN CVMY OJ CVIYGZ WPO DA TJP XVIO CVIYGZ HZ VO HT RJMNO OCZI TJP NPMZ VN CZGGYJIO YZNZMQZ HZ VO HT WZNO HVMDGTI HJIMJZ\n",
      "\n",
      "Shift key 19:\n",
      "CG MYFZCMB CGJUNCYHN UHX U FCNNFY CHMYWOLY C GUEY GCMNUEYM C UG ION IZ WIHNLIF\n",
      "UHXUN NCGYM BULX NI BUHXFY VON CZ SIO WUHN BUHXFY GY UN GS QILMN NBYH SIO MOLY UM BYFFXIHN XYMYLPY GY UN GS VYMN GULCFSH GIHLIY\n",
      "\n",
      "Shift key 20:\n",
      "BF LXEYBLA BFITMBXGM TGW T EBMMEX BGLXVNKX B FTDX FBLMTDXL B TF HNM HY VHGMKHE\n",
      "TGWTM MBFXL ATKW MH ATGWEX UNM BY RHN VTGM ATGWEX FX TM FR PHKLM MAXG RHN LNKX TL AXEEWHGM WXLXKOX FX TM FR UXLM FTKBERG FHGKHX\n",
      "\n",
      "Shift key 21:\n",
      "AE KWDXAKZ AEHSLAWFL SFV S DALLDW AFKWUMJW A ESCW EAKLSCWK A SE GML GX UGFLJGD\n",
      "SFVSL LAEWK ZSJV LG ZSFVDW TML AX QGM USFL ZSFVDW EW SL EQ OGJKL LZWF QGM KMJW SK ZWDDVGFL VWKWJNW EW SL EQ TWKL ESJADQF EGFJGW\n",
      "\n",
      "Shift key 22:\n",
      "ZD JVCWZJY ZDGRKZVEK REU R CZKKCV ZEJVTLIV Z DRBV DZJKRBVJ Z RD FLK FW TFEKIFC\n",
      "REURK KZDVJ YRIU KF YREUCV SLK ZW PFL TREK YREUCV DV RK DP NFIJK KYVE PFL JLIV RJ YVCCUFEK UVJVIMV DV RK DP SVJK DRIZCPE DFEIFV\n",
      "\n",
      "Shift key 23:\n",
      "YC IUBVYIX YCFQJYUDJ QDT Q BYJJBU YDIUSKHU Y CQAU CYIJQAUI Y QC EKJ EV SEDJHEB\n",
      "QDTQJ JYCUI XQHT JE XQDTBU RKJ YV OEK SQDJ XQDTBU CU QJ CO MEHIJ JXUD OEK IKHU QI XUBBTEDJ TUIUHLU CU QJ CO RUIJ CQHYBOD CEDHEU\n",
      "\n",
      "Shift key 24:\n",
      "XB HTAUXHW XBEPIXTCI PCS P AXIIAT XCHTRJGT X BPZT BXHIPZTH X PB DJI DU RDCIGDA\n",
      "PCSPI IXBTH WPGS ID WPCSAT QJI XU NDJ RPCI WPCSAT BT PI BN LDGHI IWTC NDJ HJGT PH WTAASDCI STHTGKT BT PI BN QTHI BPGXANC BDCGDT\n",
      "\n",
      "Shift key 25:\n",
      "WA GSZTWGV WADOHWSBH OBR O ZWHHZS WBGSQIFS W AOYS AWGHOYSG W OA CIH CT QCBHFCZ\n",
      "OBROH HWASG VOFR HC VOBRZS PIH WT MCI QOBH VOBRZS AS OH AM KCFGH HVSB MCI GIFS OG VSZZRCBH RSGSFJS AS OH AM PSGH AOFWZMB ACBFCS\n",
      "\n",
      "Shift key 26:\n",
      "VZ FRYSVFU VZCNGVRAG NAQ N YVGGYR VAFRPHER V ZNXR ZVFGNXRF V NZ BHG BS PBAGEBY\n",
      "NAQNG GVZRF UNEQ GB UNAQYR OHG VS LBH PNAG UNAQYR ZR NG ZL JBEFG GURA LBH FHER NF URYYQBAG QRFREIR ZR NG ZL ORFG ZNEVYLA ZBAEBR\n",
      "\n",
      "Shift key 27:\n",
      "UY EQXRUET UYBMFUQZF MZP M XUFFXQ UZEQOGDQ U YMWQ YUEFMWQE U MY AGF AR OAZFDAX\n",
      "MZPMF FUYQE TMDP FA TMZPXQ NGF UR KAG OMZF TMZPXQ YQ MF YK IADEF FTQZ KAG EGDQ ME TQXXPAZF PQEQDHQ YQ MF YK NQEF YMDUXKZ YAZDAQ\n",
      "\n",
      "Shift key 28:\n",
      "TX DPWQTDS TXALETPYE LYO L WTEEWP TYDPNFCP T XLVP XTDELVPD T LX ZFE ZQ NZYECZW\n",
      "LYOLE ETXPD SLCO EZ SLYOWP MFE TQ JZF NLYE SLYOWP XP LE XJ HZCDE ESPY JZF DFCP LD SPWWOZYE OPDPCGP XP LE XJ MPDE XLCTWJY XZYCZP\n",
      "\n",
      "Shift key 29:\n",
      "SW COVPSCR SWZKDSOXD KXN K VSDDVO SXCOMEBO S WKUO WSCDKUOC S KW YED YP MYXDBYV\n",
      "KXNKD DSWOC RKBN DY RKXNVO LED SP IYE MKXD RKXNVO WO KD WI GYBCD DROX IYE CEBO KC ROVVNYXD NOCOBFO WO KD WI LOCD WKBSVIX WYXBYO\n",
      "\n",
      "Shift key 30:\n",
      "RV BNUORBQ RVYJCRNWC JWM J URCCUN RWBNLDAN R VJTN VRBCJTNB R JV XDC XO LXWCAXU\n",
      "JWMJC CRVNB QJAM CX QJWMUN KDC RO HXD LJWC QJWMUN VN JC VH FXABC CQNW HXD BDAN JB QNUUMXWC MNBNAEN VN JC VH KNBC VJARUHW VXWAXN\n",
      "\n"
     ]
    }
   ],
   "source": [
    "def decrypt_caesar_cipher(text, shift):\n",
    "    decrypted_text = \"\"\n",
    "    \n",
    "    for char in text:\n",
    "        if char.isalpha():\n",
    "            # Handle only uppercase letters for this case\n",
    "            shifted_char = chr(((ord(char) - 65 - shift) % 26) + 65)\n",
    "            decrypted_text += shifted_char\n",
    "        else:\n",
    "            decrypted_text += char  # Non-alphabet characters (spaces, punctuation)\n",
    "    \n",
    "    return decrypted_text\n",
    "\n",
    "def brute_force_cryptogram(ciphered_text):\n",
    "    for shift in range(1, 31):\n",
    "        print(f\"Shift key {shift}:\")\n",
    "        print(decrypt_caesar_cipher(ciphered_text, shift))\n",
    "        print()\n",
    "\n",
    "# Given ciphered cryptogram\n",
    "ciphered_quote = \"\"\"VZ FRYSVFU VZCNGVRAG NAQ N YVGGYR VAFRPHER V ZNXR ZVFGNXRF V NZ BHG BS PBAGEBY\n",
    "NAQNG GVZRF UNEQ GB UNAQYR OHG VS LBH PNAG UNAQYR ZR NG ZL JBEFG GURA LBH FHER NF URYYQBAG QRFREIR ZR NG ZL ORFG ZNEVYLA ZBAEBR\"\"\"\n",
    "\n",
    "# Brute force to find the correct shift key\n",
    "brute_force_cryptogram(ciphered_quote)"
   ]
  }
 ],
 "metadata": {
  "kernelspec": {
   "display_name": "Python 3 (ipykernel)",
   "language": "python",
   "name": "python3"
  },
  "language_info": {
   "codemirror_mode": {
    "name": "ipython",
    "version": 3
   },
   "file_extension": ".py",
   "mimetype": "text/x-python",
   "name": "python",
   "nbconvert_exporter": "python",
   "pygments_lexer": "ipython3",
   "version": "3.11.7"
  }
 },
 "nbformat": 4,
 "nbformat_minor": 5
}
