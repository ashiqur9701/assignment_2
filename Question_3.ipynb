{
 "cells": [
  {
   "cell_type": "markdown",
   "metadata": {
    "id": "r-VKs4zmIedh"
   },
   "source": [
    "## Fixing the next code will reveal the key"
   ]
  },
  {
   "cell_type": "code",
   "execution_count": 7,
   "metadata": {
    "id": "YnHFVhECGS0J"
   },
   "outputs": [],
   "source": [
    "total = 0\n",
    "for i in range(5):\n",
    "  for j in range(3):\n",
    "    if i + j == 5:\n",
    "      total += i+j\n",
    "    else:\n",
    "        total -= i - j\n",
    "\n",
    "counter = 0\n",
    "while counter < 5:\n",
    "  if total < 13:\n",
    "    total += 1\n",
    "  elif total > 13:\n",
    "    total -= 1\n",
    "  else:\n",
    "    counter += 2"
   ]
  },
  {
   "cell_type": "markdown",
   "metadata": {
    "id": "mwVV49xGIn3p"
   },
   "source": [
    "## Fixes"
   ]
  },
  {
   "cell_type": "code",
   "execution_count": 8,
   "metadata": {
    "colab": {
     "base_uri": "https://localhost:8080/"
    },
    "id": "14OIsBEQIXVm",
    "outputId": "64011ca3-a6e7-4733-e463-4bbb2a34b7c7"
   },
   "outputs": [
    {
     "name": "stdout",
     "output_type": "stream",
     "text": [
      "Total after for loops: -1\n",
      "Final Total: 13\n",
      "Final Counter: 6\n"
     ]
    }
   ],
   "source": [
    "# Initialize total\n",
    "total = 0\n",
    "\n",
    "# Nested loop to adjust total\n",
    "for i in range(5):\n",
    "    for j in range(3):\n",
    "        if i + j == 5:\n",
    "            total += i + j  # If sum of i and j is 5, add to total\n",
    "        else:\n",
    "            total -= (i - j)  # Otherwise, subtract (i - j)\n",
    "\n",
    "# Print total after nested loop\n",
    "print(\"Total after for loops:\", total)\n",
    "\n",
    "# While loop to adjust total towards 13\n",
    "counter = 0\n",
    "while counter < 5:\n",
    "    if total < 13:\n",
    "        total += 1  # Increase total if it's less than 13\n",
    "    elif total > 13:\n",
    "        total -= 1  # Decrease total if it's more than 13\n",
    "    else:\n",
    "        counter += 2  # Increase counter when total equals 13\n",
    "\n",
    "# Print total and counter after the while loop\n",
    "print(\"Final Total:\", total)\n",
    "print(\"Final Counter:\", counter)"
   ]
  },
  {
   "cell_type": "markdown",
   "metadata": {
    "id": "zKU9jO9FCqXZ"
   },
   "source": [
    "## Decryption Function using Key 13"
   ]
  },
  {
   "cell_type": "code",
   "execution_count": 9,
   "metadata": {
    "colab": {
     "base_uri": "https://localhost:8080/"
    },
    "id": "_uxvU3J1Cr4n",
    "outputId": "e01d20f2-fb1d-42dc-f3e6-a35024d3a6a2"
   },
   "outputs": [
    {
     "name": "stdout",
     "output_type": "stream",
     "text": [
      "\n",
      "global_variable = 100\n",
      "my_dict = {'key1': 'value1', 'ke12': 'value2', 'ke13': 'value3'}\n",
      "\n",
      "def process_numbers():\n",
      "  global global_variable\n",
      "  local_variable = 5\n",
      "  numbers = [1, 2, 3, 4, 5]\n",
      "\n",
      "  while local variable > 0:\n",
      "           if local variable % 2 == 0:\n",
      "               numbers.remove(local_variable)\n",
      "            local variable -= 1\n",
      "  return numbers\n",
      "\n",
      "my_set = {1, 2, 3, 4, 5, 5, 4, 3, 2, 1}\n",
      "result = process_numbers (numbers=my_set)\n",
      "\n",
      "def modify_dict():\n",
      "    local variable = 10\n",
      "    my_dict['ke14'] = local_variable\n",
      "\n",
      "modify_dict(5)\n",
      "\n",
      "def update_global():\n",
      "    global global_variable\n",
      "    global_variable += 10\n",
      "\n",
      "for i in range(5):\n",
      "    print(i)\n",
      "    i += 1\n",
      "\n",
      "if my_set is not None and my_dict['ke14'] == 10:\n",
      "    print(\"Condition met!\")\n",
      "\n",
      "if 5 not in m1_dict:\n",
      "     print(\"5 not found in the dictionary!\")\n",
      "\n",
      "print(global_variable)\n",
      "print(my_dict)\n",
      "print(m1_set)\n",
      "\n"
     ]
    }
   ],
   "source": [
    "def decrypt(text, key=13):\n",
    "    decrypted_text = \"\"\n",
    "    for char in text:\n",
    "        if char.isalpha():\n",
    "            shifted = ord(char) - key\n",
    "            if char.islower():\n",
    "                if shifted < ord('a'):\n",
    "                    shifted += 26\n",
    "            elif char.isupper():\n",
    "                if shifted < ord('A'):\n",
    "                    shifted += 26\n",
    "            decrypted_text += chr(shifted)\n",
    "        else:\n",
    "            decrypted_text += char\n",
    "    return decrypted_text\n",
    "\n",
    "# Encrypted code\n",
    "encrypted_code = '''\n",
    "tybony_inevnoyr = 100\n",
    "zl_qvpg = {'xrl1': 'inyhr1', 'xr12': 'inyhr2', 'xr13': 'inyhr3'}\n",
    "\n",
    "qrs cebprff_ahzoref():\n",
    "  tybony tybony_inevnoyr\n",
    "  ybpny_inevnoyr = 5\n",
    "  ahzoref = [1, 2, 3, 4, 5]\n",
    "\n",
    "  juvyr ybpny inevnoyr > 0:\n",
    "           vs ybpny inevnoyr % 2 == 0:\n",
    "               ahzoref.erzbir(ybpny_inevnoyr)\n",
    "            ybpny inevnoyr -= 1\n",
    "  erghea ahzoref\n",
    "\n",
    "zl_frg = {1, 2, 3, 4, 5, 5, 4, 3, 2, 1}\n",
    "erfhyg = cebprff_ahzoref (ahzoref=zl_frg)\n",
    "\n",
    "qrs zbqvsl_qvpg():\n",
    "    ybpny inevnoyr = 10\n",
    "    zl_qvpg['xr14'] = ybpny_inevnoyr\n",
    "\n",
    "zbqvsl_qvpg(5)\n",
    "\n",
    "qrs hcqngr_tybony():\n",
    "    tybony tybony_inevnoyr\n",
    "    tybony_inevnoyr += 10\n",
    "\n",
    "sbe v va enatr(5):\n",
    "    cevag(v)\n",
    "    v += 1\n",
    "\n",
    "vs zl_frg vf abg Abar naq zl_qvpg['xr14'] == 10:\n",
    "    cevag(\"Pbaqvgvba zrg!\")\n",
    "\n",
    "vs 5 abg va z1_qvpg:\n",
    "     cevag(\"5 abg sbhaq va gur qvpgvbanel!\")\n",
    "\n",
    "cevag(tybony_inevnoyr)\n",
    "cevag(zl_qvpg)\n",
    "cevag(z1_frg)\n",
    "'''\n",
    "\n",
    "# Decrypt the code using key=13\n",
    "decrypted_code = decrypt(encrypted_code, 13)\n",
    "print(decrypted_code)"
   ]
  },
  {
   "cell_type": "markdown",
   "metadata": {
    "id": "GPjZIuUHE_Ns"
   },
   "source": [
    "## Analyzing and Fixing the Decrypted Code"
   ]
  },
  {
   "cell_type": "code",
   "execution_count": 10,
   "metadata": {
    "colab": {
     "base_uri": "https://localhost:8080/"
    },
    "id": "fpI_dfMvGJJS",
    "outputId": "82a85d34-d765-412b-9c5e-e4a99364bd49"
   },
   "outputs": [
    {
     "name": "stdout",
     "output_type": "stream",
     "text": [
      "0\n",
      "1\n",
      "2\n",
      "3\n",
      "4\n",
      "Condition met!\n",
      "5 not found in the dictionary!\n",
      "100\n",
      "{'key1': 'value1', 'key2': 'value2', 'key3': 'value3', 'key4': 10}\n",
      "{1, 2, 3, 4, 5}\n"
     ]
    }
   ],
   "source": [
    "# Corrected code\n",
    "\n",
    "# Defining a global variable\n",
    "global_variable = 100\n",
    "\n",
    "# Correcting dictionary keys and syntax errors\n",
    "my_dict = {'key1': 'value1', 'key2': 'value2', 'key3': 'value3'}\n",
    "\n",
    "# Function to process numbers\n",
    "def process_numbers():\n",
    "    global global_variable  # Declaring global variable\n",
    "    local_variable = 5  # Corrected 'local_variable' to remove space\n",
    "    numbers = [1, 2, 3, 4, 5]\n",
    "\n",
    "    # Correcting loop and variable names\n",
    "    while local_variable > 0:\n",
    "        if local_variable % 2 == 0:\n",
    "            numbers.remove(local_variable)  # Proper variable name\n",
    "        local_variable -= 1  # Correct decrement statement\n",
    "\n",
    "    return numbers\n",
    "\n",
    "# Removing duplicates from the set (Sets automatically remove duplicates)\n",
    "my_set = {1, 2, 3, 4, 5}\n",
    "\n",
    "# Corrected function call for process_numbers\n",
    "result = process_numbers()\n",
    "\n",
    "# Function to modify dictionary\n",
    "def modify_dict():\n",
    "    local_variable = 10  # Fixed 'local_variable' spacing error\n",
    "    my_dict['key4'] = local_variable  # Corrected key name in the dictionary\n",
    "\n",
    "modify_dict()  # Removed incorrect argument passing\n",
    "\n",
    "# Function to update the global variable\n",
    "def update_global():\n",
    "    global global_variable  # Declare the global variable\n",
    "    global_variable += 10  # Increment global_variable by 10\n",
    "\n",
    "# For loop to print numbers\n",
    "for i in range(5):\n",
    "    print(i)  # Print each value of 'i'\n",
    "    # i += 1 is unnecessary here as the loop itself increments 'i'\n",
    "\n",
    "# Condition check to see if the key in dictionary matches the value\n",
    "if my_set is not None and my_dict.get('key4') == 10:  # Corrected dictionary key access\n",
    "    print(\"Condition met!\")  # Print when condition is met\n",
    "\n",
    "# Corrected dictionary name from 'm1_dict' to 'my_dict'\n",
    "if 5 not in my_dict:\n",
    "    print(\"5 not found in the dictionary!\")\n",
    "\n",
    "# Final prints to check the values of the variables\n",
    "print(global_variable)  # Should print updated global_variable\n",
    "print(my_dict)  # Should print updated dictionary\n",
    "print(my_set)  # Should print the set"
   ]
  }
 ],
 "metadata": {
  "colab": {
   "provenance": []
  },
  "kernelspec": {
   "display_name": "Python 3 (ipykernel)",
   "language": "python",
   "name": "python3"
  },
  "language_info": {
   "codemirror_mode": {
    "name": "ipython",
    "version": 3
   },
   "file_extension": ".py",
   "mimetype": "text/x-python",
   "name": "python",
   "nbconvert_exporter": "python",
   "pygments_lexer": "ipython3",
   "version": "3.11.7"
  }
 },
 "nbformat": 4,
 "nbformat_minor": 4
}
